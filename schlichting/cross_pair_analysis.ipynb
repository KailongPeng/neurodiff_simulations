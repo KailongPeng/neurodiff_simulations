{
 "cells": [
  {
   "cell_type": "markdown",
   "metadata": {},
   "source": [
    "# Table of Contents\n",
    "\n",
    "1. [Import & Set Up](#import_everything)\n",
    "2. [Load in data](#load_files)\n",
    "3. [Within Pair Correlation](#within_pair_correlation)\n",
    "3. [Center of Mass](#c_o_m)\n",
    "    1. [distance apart](#distance_apart)\n",
    "    2. [error by overlap](#error_by_overlap)"
   ]
  },
  {
   "cell_type": "markdown",
   "metadata": {},
   "source": [
    "# Import Stuff\n",
    "<a id='import_everything'></a>"
   ]
  },
  {
   "cell_type": "markdown",
   "metadata": {},
   "source": []
  },
  {
   "cell_type": "code",
   "execution_count": null,
   "metadata": {
    "collapsed": true
   },
   "outputs": [],
   "source": [
    "import csv\n",
    "import pandas as pd\n",
    "import numpy as np\n",
    "import matplotlib.pyplot as plt\n",
    "\n",
    "\n",
    "\n",
    "import seaborn as sns\n",
    "import matplotlib.animation as animation\n",
    "import os as os\n",
    "from collections import defaultdict\n",
    "import shutil\n",
    "import glob\n",
    "import sys\n",
    "from statsmodels.stats.anova import AnovaRM\n",
    "\n",
    "\n",
    "# sns.set_style(style='white')\n",
    "# pd.set_option('display.max_columns', 500)\n",
    "\n",
    "colors_dict = {'Blocked': sns.color_palette(\"GnBu\")[3], \n",
    "              'Interleaved': sns.color_palette(\"GnBu\")[1]}\n",
    "\n",
    "color_order_dict = {'first': sns.color_palette('husl')[0],\n",
    "             'second': sns.color_palette('husl')[3]}\n"
   ]
  },
  {
   "cell_type": "markdown",
   "metadata": {
    "collapsed": true
   },
   "source": [
    "### Set directory"
   ]
  },
  {
   "cell_type": "code",
   "execution_count": null,
   "metadata": {
    "collapsed": true
   },
   "outputs": [],
   "source": [
    "print('Number of arguments:', len(sys.argv), 'arguments.')\n",
    "print('Argument List:', str(sys.argv))\n",
    "print('---')\n",
    "from_cmdLine = sys.argv[-1]\n",
    "print(from_cmdLine)\n",
    "\n",
    "print('---')\n",
    "\n",
    "if from_cmdLine == 'cmd' :\n",
    "    data_file = sys.argv[-2]\n",
    "    print('using command line to set data')\n",
    "    data_dir = data_file + '/'\n",
    "else :\n",
    "    print('using script to set data')\n",
    "#     data_dir = '/Users/victoria/go/src/github.com/emer/leabra/examples/color_diff/data/2021_03_30_test_t4/subject0/'\n",
    "    data_dir = '/Users/victoria/go/src/github.com/emer/leabra/examples/schlichting/data/2021_12_22_schlichting/'\n",
    "    data_dir = '/Users/victoria/go/src/github.com/emer/leabra/examples/schlichting/data/2021_12_30_schlichting_higher/'\n",
    "results_dir = data_dir + '/results/'\n",
    "if not os.path.exists(results_dir) :\n",
    "    os.mkdir(results_dir)\n",
    "    \n",
    "eps_dir = results_dir + 'eps_files/'\n",
    "\n",
    "if not os.path.exists(eps_dir):\n",
    "    os.mkdir(eps_dir)"
   ]
  },
  {
   "cell_type": "code",
   "execution_count": null,
   "metadata": {
    "collapsed": true
   },
   "outputs": [],
   "source": []
  },
  {
   "cell_type": "markdown",
   "metadata": {},
   "source": [
    "# Load in files\n",
    "<a id='load_files'></a>"
   ]
  },
  {
   "cell_type": "code",
   "execution_count": null,
   "metadata": {
    "collapsed": true
   },
   "outputs": [],
   "source": [
    "curr_dirs = []\n",
    "# overlap = np.arange(6)\n",
    "overlap = ['Interleave' , 'Blocked']\n",
    "for o in overlap :\n",
    "    o = str(o)\n",
    "    curr_d =  'results_--blocked_interleave_flag=' + o + '/'\n",
    "\n",
    "    print(curr_d)\n",
    "    curr_dirs.append(curr_d)\n",
    "    \n",
    "all_c_mass_list = []\n",
    "all_face_list = []\n",
    "\n",
    "all_corr_list = []\n",
    "\n",
    "all_corr_pre_post_list = []\n",
    "for d in curr_dirs :\n",
    "    all_c_mass_list.append(pd.read_csv(data_dir + d + 'fig/results/center_of_mass.csv', index_col = 0))\n",
    "    \n",
    "    all_corr_list.append(pd.read_csv(data_dir + d + 'fig/results/correlation.csv', index_col = 0))\n",
    "#     all_face_list.append(pd.read_csv(data_dir + d + 'fig/results/face_data.csv', index_col = 0))\n",
    "\n",
    "    all_corr_pre_post_list.append(pd.read_csv(data_dir + d + 'fig/results/pre_post_corr.csv', index_col = 0))\n",
    "    \n",
    "all_c_mass_df = pd.concat(all_c_mass_list, 0)\n",
    "all_c_mass_df['overlap'] = all_c_mass_df['overlap'].astype('category')\n",
    "all_c_mass_df['layer'] = all_c_mass_df['layer'].astype('category')\n",
    "all_c_mass_df['order'] = all_c_mass_df['order'].astype('category')\n",
    "\n",
    "all_corr_df = pd.concat(all_corr_list, 0)\n",
    "all_corr_df['layer'] = all_corr_df['layer'].astype('category')\n",
    "\n",
    "all_corr_df['blocked_interleaved'] = all_corr_df['blocked_interleaved'].astype('category')\n",
    "all_corr_df['blocked_interleaved'].cat.reorder_categories(['Interleaved','Blocked'], inplace=True)\n",
    "all_corr_pre_post_df = pd.concat(all_corr_pre_post_list, 0)\n",
    "\n",
    "# all_face_df = pd.concat(all_face_list,0)\n",
    "# all_face_df['overlap'] = all_face_df['overlap'].astype('category')\n",
    "# all_face_df['unit'] = all_face_df['unit'].astype('category')"
   ]
  },
  {
   "cell_type": "code",
   "execution_count": null,
   "metadata": {
    "collapsed": true
   },
   "outputs": [],
   "source": [
    "all_corr_df"
   ]
  },
  {
   "cell_type": "code",
   "execution_count": null,
   "metadata": {
    "collapsed": true
   },
   "outputs": [],
   "source": []
  },
  {
   "cell_type": "code",
   "execution_count": null,
   "metadata": {
    "collapsed": true
   },
   "outputs": [],
   "source": [
    "hidden_c_mass_df = all_c_mass_df[all_c_mass_df['layer']=='hidden'].reset_index()\n",
    "output_c_mass_df = all_c_mass_df[all_c_mass_df['layer']=='output'].reset_index()\n",
    "output_c_mass_df['time']= output_c_mass_df['time'].map({'pre':'Before', 'post':'After'})\n",
    "hidden_c_mass_df['time']= hidden_c_mass_df['time'].map({'pre':'Before', 'post':'After'})\n"
   ]
  },
  {
   "cell_type": "code",
   "execution_count": null,
   "metadata": {
    "collapsed": true
   },
   "outputs": [],
   "source": [
    "palette_before_after = {'Before': (.6,.6,.6), 'After': (0,0,0)}\n",
    "order_palette = {'first': (.325, .58, .596), 'second': (.741, .304, .545)}\n"
   ]
  },
  {
   "cell_type": "code",
   "execution_count": null,
   "metadata": {
    "collapsed": true
   },
   "outputs": [],
   "source": []
  },
  {
   "cell_type": "markdown",
   "metadata": {},
   "source": [
    "# Within Pair Correlation Over Time\n",
    "<a id='within_pair_correlation'></a>"
   ]
  },
  {
   "cell_type": "code",
   "execution_count": null,
   "metadata": {
    "collapsed": true
   },
   "outputs": [],
   "source": []
  },
  {
   "cell_type": "code",
   "execution_count": null,
   "metadata": {
    "collapsed": true
   },
   "outputs": [],
   "source": []
  },
  {
   "cell_type": "code",
   "execution_count": null,
   "metadata": {
    "collapsed": true,
    "scrolled": true
   },
   "outputs": [],
   "source": [
    "def plot_within_pair_correlation(data, layer, split = False):\n",
    "    plt.clf()\n",
    "    is_within_pair = data['pair_type'] == 'med1-med2'\n",
    "    is_layer = data['layer'] == layer\n",
    "\n",
    "    within_pair_correlation_pre_post = data[(is_within_pair) & (is_layer)]\n",
    "    within_pair_correlation_pre_post = (within_pair_correlation_pre_post.set_index(pd.Series((range(len(within_pair_correlation_pre_post))))))\n",
    "    \n",
    "    if split == True:\n",
    "        sns.lineplot(x = '|Epoch', y = 'correlation', hue='blocked_interleaved', data = within_pair_correlation_pre_post,\n",
    "                     palette = colors_dict, units = '|Run', estimator = None, alpha = .2)\n",
    "    elif split == False:\n",
    "        sns.lineplot(x = '|Epoch', y = 'correlation', hue='blocked_interleaved', data = within_pair_correlation_pre_post,\n",
    "                     palette = colors_dict)\n",
    "\n",
    "    plt.axhline(y = 0, c = 'k')\n",
    "    plt.ylim([-1.1, 1.1])\n",
    "    title = 'Within-Pair Correlation Over Time: ' + layer.capitalize() + ' Layer'\n",
    "    if split == True:\n",
    "        title = title + ' (runs)'\n",
    "    plt.legend(title = 'Condition', bbox_to_anchor = (1.05, 1), loc = 2, borderaxespad=0.)\n",
    "    plt.xlabel('Epoch')\n",
    "    plt.title(title)\n",
    "        \n",
    "    plt.savefig(results_dir + title + '.png', bbox_inches='tight')\n",
    "    plt.show()\n",
    "\n",
    "    \n",
    "plot_within_pair_correlation(all_corr_df, 'hidden', split = False)\n",
    "plot_within_pair_correlation(all_corr_df, 'hidden', split = True)\n",
    "plot_within_pair_correlation(all_corr_df, 'output')\n"
   ]
  },
  {
   "cell_type": "code",
   "execution_count": null,
   "metadata": {
    "collapsed": true
   },
   "outputs": [],
   "source": [
    "def select_data(data):\n",
    "    \n",
    "    is_within_pair = data['pair_type'] == 'med1-med2'\n",
    "    is_layer = data['layer'] == 'hidden'\n",
    "    is_pre_or_post = data['|Epoch'].isin([data['|Epoch'].min(), data['|Epoch'].max()])\n",
    "\n",
    "    within_pair_correlation_pre_post = data[(is_within_pair) & (is_layer) & (is_pre_or_post)]\n",
    "    within_pair_correlation_pre_post\n",
    "    \n",
    "    return within_pair_correlation_pre_post\n",
    "\n",
    "within_pair_correlation_pre_post = select_data(all_corr_df)\n",
    "\n",
    "\n"
   ]
  },
  {
   "cell_type": "code",
   "execution_count": null,
   "metadata": {
    "collapsed": true
   },
   "outputs": [],
   "source": [
    "epoch_min = within_pair_correlation_pre_post['|Epoch'].min()\n",
    "epoch_max = within_pair_correlation_pre_post['|Epoch'].max()\n",
    "\n",
    "within_pair_correlation_pre_post['Time'] = within_pair_correlation_pre_post['|Epoch'].map({epoch_min:'Before', epoch_max:'After'})\n",
    "\n"
   ]
  },
  {
   "cell_type": "code",
   "execution_count": null,
   "metadata": {
    "collapsed": true
   },
   "outputs": [],
   "source": []
  },
  {
   "cell_type": "code",
   "execution_count": null,
   "metadata": {
    "collapsed": true
   },
   "outputs": [],
   "source": [
    "within_pair_correlation_pre_post"
   ]
  },
  {
   "cell_type": "code",
   "execution_count": null,
   "metadata": {
    "collapsed": true
   },
   "outputs": [],
   "source": [
    "def pre_post_corr_parameter_shift(data, x_parameter, ribbon = False):\n",
    "\n",
    "    plt.clf()\n",
    "#     ax = sns.stripplot(x = parameter, y = 'correlation', hue = '|Epoch', \n",
    "#                  data = within_pair_correlation_pre_post, dodge = .3, alpha = .1, palette = 'Dark2_r')\n",
    "\n",
    "\n",
    "    x = np.arange(-1, 2, .01)\n",
    "    \n",
    "    if ribbon == True:\n",
    "        plt.fill_between(x, .21, .29, alpha  = .2, color = 'grey')\n",
    "\n",
    "        \n",
    "    ax = sns.pointplot(x = 'blocked_interleaved', y = 'correlation', hue = 'Time', \n",
    "                  linestyles = '', dodge = .3, data = data, palette = palette_before_after)\n",
    "    \n",
    "    num_categories = len(data['blocked_interleaved'].unique())\n",
    "    for (x1, y1), (x2, y2) in zip(ax.lines[0].get_xydata(), ax.lines[num_categories + 1].get_xydata()):\n",
    "        ax.plot([x1, x2], [y1, y2], color='black', zorder = 0)\n",
    "\n",
    "    plt.axhline(0, color = 'k', linestyle = '-', zorder = 0)\n",
    "\n",
    "    handles, labels = ax.get_legend_handles_labels()\n",
    "    \n",
    "    l = plt.legend(handles[0:2], labels[0:2], bbox_to_anchor=(1.05, 1), loc=2, borderaxespad=0.)\n",
    "    \n",
    "\n",
    "    l.get_texts()[0].set_text('before')\n",
    "    l.get_texts()[1].set_text('after')\n",
    "    title = 'Hidden Layer Within-Pair Correlation'\n",
    "    plt.xlabel('Interleaved or Blocked Learning')\n",
    "    plt.ylim([-1,1.1])\n",
    "    ax.spines['top'].set_visible(False)\n",
    "    ax.spines['right'].set_visible(False)\n",
    "\n",
    "    plt.xlim([-.5, 1.5])\n",
    "    \n",
    "    plt.ylabel('Within-Pair Correlation')\n",
    "    plt.title(title)\n",
    "    plt.savefig(results_dir + title + '.png', bbox_inches='tight')\n",
    "    plt.savefig(eps_dir + title + '.eps', bbox_inches='tight')\n",
    "    plt.show()\n",
    "    \n",
    "    return ax\n",
    "ax = pre_post_corr_parameter_shift(within_pair_correlation_pre_post, 'overlap', ribbon = True)"
   ]
  },
  {
   "cell_type": "markdown",
   "metadata": {},
   "source": [
    "# Center of Mass analyses\n",
    "<a id = 'c_o_m'></a>\n"
   ]
  },
  {
   "cell_type": "markdown",
   "metadata": {},
   "source": [
    "### Center of Mass - # units apart\n",
    "<a id = distance_apart></a>\n"
   ]
  },
  {
   "cell_type": "code",
   "execution_count": null,
   "metadata": {
    "collapsed": true
   },
   "outputs": [],
   "source": [
    "output_c_mass_df.head()"
   ]
  },
  {
   "cell_type": "code",
   "execution_count": null,
   "metadata": {
    "collapsed": true
   },
   "outputs": [],
   "source": [
    "def center_of_mass_dist(data_df, layer) :\n",
    "    plt.clf()\n",
    "    diff_data = data_df[data_df['stim'].isin(['med_diff'])]\n",
    "\n",
    "    ax = sns.stripplot(x = 'blocked_interleaved', y = 'c_o_m', hue = 'time', data = diff_data, alpha = .1, palette = 'Dark2_r')\n",
    "    ax = sns.pointplot(x = 'blocked_interleaved', y = 'c_o_m', hue = 'time', data = diff_data, ci = 95, linestyles = ' ', palette = 'Dark2_r')\n",
    "    handles, labels = ax.get_legend_handles_labels()\n",
    "    l = plt.legend(handles[0:2], labels[0:2], bbox_to_anchor=(1.05, 1), loc=2, borderaxespad=0.)\n",
    "    if layer == 'Color' :\n",
    "        layer = 'Output'\n",
    "    title = 'Center of Mass # Units Apart: ' + layer + ' Layer'\n",
    "    box = ax.get_position()\n",
    "    ax.set_position([box.x0, box.y0, box.width * 0.8, box.height])\n",
    "    plt.title(title)\n",
    "    plt.axhline(y = 0, linestyle = '-', color = 'k')\n",
    "    plt.ylim(-10,10)\n",
    "    plt.xlabel('Condition')\n",
    "    plt.ylabel('Number of Units Apart')\n",
    "    plt.savefig(results_dir + title + '.png', bbox_inches='tight')\n",
    "    plt.show()\n",
    "\n",
    "center_of_mass_dist(output_c_mass_df, 'Color')\n",
    "center_of_mass_dist(hidden_c_mass_df, 'Hidden')\n",
    "\n"
   ]
  },
  {
   "cell_type": "markdown",
   "metadata": {},
   "source": [
    "### error analysis\n",
    "<a id = error_by_overlap></a>\n"
   ]
  },
  {
   "cell_type": "code",
   "execution_count": null,
   "metadata": {
    "collapsed": true
   },
   "outputs": [],
   "source": [
    "output_c_mass_df"
   ]
  },
  {
   "cell_type": "code",
   "execution_count": null,
   "metadata": {
    "collapsed": true
   },
   "outputs": [],
   "source": [
    "def plot_error_by_order(output_c_mass_df) :\n",
    "    plt.clf()\n",
    "    color_error_data = output_c_mass_df[output_c_mass_df['stim'].isin(['med1', 'med2'])]\n",
    "    color_error_data = output_c_mass_df[output_c_mass_df['time'].isin(['After'])]\n",
    "\n",
    "    ax = plt.axhline(0, ls = '-', color = 'gray')\n",
    "\n",
    "    ax = sns.stripplot(x='blocked_interleaved', y = 'rev_error', hue = 'order', alpha = .1, data = color_error_data)\n",
    "    handles, labels = ax.get_legend_handles_labels()\n",
    "\n",
    "#     ax = sns.pointplot(x='blocked_interleaved', y = 'rev_error', hue = 'order', data = color_error_data, alpha = .1, linestyles= ' ')\n",
    "    l = plt.legend(handles[0:2], labels[0:2], bbox_to_anchor=(1.05, 1), loc=2, borderaxespad=0.)\n",
    "    box = ax.get_position()\n",
    "    ax.set_position([box.x0, box.y0, box.width * 0.8, box.height])\n",
    "    title = 'Output Error By Condition and Order'\n",
    "    plt.title(title)\n",
    "    plt.xlabel('Condition)')\n",
    "\n",
    "    plt.ylim([-10,10])\n",
    "    plt.ylabel(' # units away from true value')\n",
    "    plt.savefig(results_dir + title + '.png', bbox_inches='tight')\n",
    "    plt.show()\n",
    "\n",
    "    \n",
    "def plot_error(output_c_mass_df) :\n",
    "    plt.clf()\n",
    "    \n",
    "    color_error_data = output_c_mass_df[output_c_mass_df['stim'].isin(['med1', 'med2'])]\n",
    "    color_error_data = output_c_mass_df[output_c_mass_df['time'].isin(['After'])]\n",
    "\n",
    "    ax = sns.stripplot(x='blocked_interleaved', y = 'rev_error', alpha = .1, color = 'k', data = color_error_data)\n",
    "    ax = plt.axhline(0, ls = '-', color = 'gray')\n",
    "\n",
    "    ax = sns.pointplot(x='blocked_interleaved', y = 'rev_error', color = 'k', data = color_error_data, linestyles= ' ')\n",
    "    box = ax.get_position()\n",
    "    ax.set_position([box.x0, box.y0, box.width * 0.8, box.height])\n",
    "    title = 'Output Error By Condition'\n",
    "    plt.title(title)\n",
    "    plt.xlabel('Condition)')\n",
    "    plt.ylim([-10,10])\n",
    "    plt.ylabel(' # units away from true value')\n",
    "    plt.savefig(results_dir + title + '.png', bbox_inches='tight')\n",
    "    plt.show()\n",
    "\n",
    "plot_error_by_order(output_c_mass_df)\n",
    "plot_error(output_c_mass_df)\n"
   ]
  },
  {
   "cell_type": "code",
   "execution_count": null,
   "metadata": {
    "collapsed": true
   },
   "outputs": [],
   "source": [
    "print('done with cross-pair analysis!')"
   ]
  }
 ],
 "metadata": {
  "kernelspec": {
   "display_name": "Python 3",
   "language": "python",
   "name": "python3"
  },
  "language_info": {
   "codemirror_mode": {
    "name": "ipython",
    "version": 3
   },
   "file_extension": ".py",
   "mimetype": "text/x-python",
   "name": "python",
   "nbconvert_exporter": "python",
   "pygments_lexer": "ipython3",
   "version": "3.6.1"
  }
 },
 "nbformat": 4,
 "nbformat_minor": 2
}
