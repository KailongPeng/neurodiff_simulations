{
 "cells": [
  {
   "cell_type": "markdown",
   "metadata": {},
   "source": [
    "# Table of Contents\n",
    "\n",
    "1. [Import & Set Up](#import_everything)\n",
    "2. [Load in data](#load_files)\n",
    "3. [Within Pair Correlation](#within_pair_correlation)\n",
    "3. [Center of Mass](#c_o_m)\n",
    "    1. [distance apart](#distance_apart)\n",
    "    2. [error by overlap](#error_by_overlap)\n",
    "4. [Face Associate Task](#face_task)"
   ]
  },
  {
   "cell_type": "markdown",
   "metadata": {},
   "source": [
    "# Import Stuff\n",
    "<a id='import_everything'></a>"
   ]
  },
  {
   "cell_type": "markdown",
   "metadata": {},
   "source": [
    "\n",
    "note - need to change so that when you sweep through with loop.py, it names the subfolders appropriately. This happens currently with chanales, were it's labeled with overlap type. will want to do something like that here so it's labeled as same vs different"
   ]
  },
  {
   "cell_type": "code",
   "execution_count": 1,
   "metadata": {
    "collapsed": true
   },
   "outputs": [],
   "source": [
    "import csv\n",
    "import pandas as pd\n",
    "import numpy as np\n",
    "import matplotlib.pyplot as plt\n",
    "\n",
    "\n",
    "\n",
    "import seaborn as sns\n",
    "import matplotlib.animation as animation\n",
    "import os as os\n",
    "from collections import defaultdict\n",
    "import shutil\n",
    "import glob\n",
    "import sys\n",
    "from statsmodels.stats.anova import AnovaRM\n",
    "\n",
    "\n",
    "# sns.set_style(style='white')\n",
    "# pd.set_option('display.max_columns', 500)\n",
    "\n",
    "colors_dict = {'Same': sns.color_palette(\"GnBu\")[3], \n",
    "              'Different': sns.color_palette(\"GnBu\")[1]}\n",
    "\n",
    "color_order_dict = {'first': sns.color_palette('husl')[0],\n",
    "             'second': sns.color_palette('husl')[3]}"
   ]
  },
  {
   "cell_type": "code",
   "execution_count": null,
   "metadata": {
    "collapsed": true
   },
   "outputs": [],
   "source": []
  },
  {
   "cell_type": "markdown",
   "metadata": {
    "collapsed": true
   },
   "source": [
    "### Set directory"
   ]
  },
  {
   "cell_type": "code",
   "execution_count": 2,
   "metadata": {},
   "outputs": [
    {
     "name": "stdout",
     "output_type": "stream",
     "text": [
      "Number of arguments: 3 arguments.\n",
      "Argument List: ['/usr/people/qanguyen/anaconda3/envs/leabra/lib/python3.8/site-packages/ipykernel_launcher.py', '-f', '/mnt/cup/people/qanguyen/.local/share/jupyter/runtime/kernel-de5ad413-4925-4244-9b33-366a8664e057.json']\n",
      "---\n",
      "/mnt/cup/people/qanguyen/.local/share/jupyter/runtime/kernel-de5ad413-4925-4244-9b33-366a8664e057.json\n",
      "---\n",
      "using script to set data\n"
     ]
    }
   ],
   "source": [
    "print('Number of arguments:', len(sys.argv), 'arguments.')\n",
    "print('Argument List:', str(sys.argv))\n",
    "print('---')\n",
    "from_cmdLine = sys.argv[-1]\n",
    "print(from_cmdLine)\n",
    "\n",
    "print('---')\n",
    "\n",
    "if from_cmdLine == 'cmd' :\n",
    "    data_file = sys.argv[-2]\n",
    "    print('using command line to set data')\n",
    "    data_dir = data_file + '/'\n",
    "else :\n",
    "    print('using script to set data')\n",
    "#     data_dir = '/Users/victoria/go/src/github.com/emer/leabra/examples/color_diff/data/2021_03_30_test_t4/subject0/'\n",
    "    data_dir = '/Users/victoria/go/src/github.com/emer/leabra/examples/favila/data/same_diff2/'\n",
    "    data_dir = '/Users/victoria/go/src/github.com/emer/leabra/examples/favila/data/2022_01_01_favila/'\n",
    "    data_dir = './figs/test/'\n",
    "\n",
    "results_dir = data_dir + '/results/'\n",
    "if not os.path.exists(results_dir) :\n",
    "    os.mkdir(results_dir)\n",
    "unusedfigs_dir = data_dir + '/unusedfigs/'\n",
    "if not os.path.exists(unusedfigs_dir) :\n",
    "    os.mkdir(unusedfigs_dir)   \n",
    "    \n",
    "eps_dir = results_dir + 'eps_files/'\n",
    "\n",
    "if not os.path.exists(eps_dir):\n",
    "    os.mkdir(eps_dir)"
   ]
  },
  {
   "cell_type": "markdown",
   "metadata": {},
   "source": [
    "# Load in files\n",
    "<a id='load_files'></a>"
   ]
  },
  {
   "cell_type": "code",
   "execution_count": 3,
   "metadata": {},
   "outputs": [
    {
     "name": "stdout",
     "output_type": "stream",
     "text": [
      "results_--same_diff_flag=Same/\n",
      "results_--same_diff_flag=Different/\n"
     ]
    }
   ],
   "source": [
    "curr_dirs = []\n",
    "# overlap = np.arange(6)\n",
    "overlap = ['Same' , 'Different']\n",
    "for o in overlap :\n",
    "    o = str(o)\n",
    "    curr_d =  'results_--same_diff_flag=' + o + '/'\n",
    "    print(curr_d)\n",
    "    curr_dirs.append(curr_d)\n",
    "    \n",
    "all_c_mass_list = []\n",
    "all_face_list = []\n",
    "\n",
    "all_corr_list = []\n",
    "\n",
    "all_corr_pre_post_list = []\n",
    "for d in curr_dirs :\n",
    "    all_c_mass_list.append(pd.read_csv(data_dir + d + 'fig/results/center_of_mass.csv', index_col = 0))\n",
    "    \n",
    "    all_corr_list.append(pd.read_csv(data_dir + d + 'fig/results/correlation.csv', index_col = 0))\n",
    "#     all_face_list.append(pd.read_csv(data_dir + d + 'fig/results/face_data.csv', index_col = 0))\n",
    "\n",
    "    all_corr_pre_post_list.append(pd.read_csv(data_dir + d + 'fig/results/pre_post_corr.csv', index_col = 0))\n",
    "    # move MDS plots\n",
    "    mds_glob = glob.glob(data_dir + d + 'fig/results/*_hidden_data_MDS_rotated_by_run*')\n",
    "    \n",
    "    for source in mds_glob:\n",
    "        shutil.copy(source, results_dir + f\"Fig 8b: {source.split('/')[-1]}\")\n",
    "all_c_mass_df = pd.concat(all_c_mass_list, 0)\n",
    "all_c_mass_df['overlap'] = all_c_mass_df['overlap'].astype('category')\n",
    "all_c_mass_df['layer'] = all_c_mass_df['layer'].astype('category')\n",
    "all_c_mass_df['order'] = all_c_mass_df['order'].astype('category')\n",
    "\n",
    "all_corr_df = pd.concat(all_corr_list, 0)\n",
    "all_corr_df['layer'] = all_corr_df['layer'].astype('category')\n",
    "\n",
    "all_corr_df['same_diff_condition'] = all_corr_df['same_diff_condition'].astype('category')\n",
    "\n",
    "all_corr_pre_post_df = pd.concat(all_corr_pre_post_list, 0)\n",
    "\n",
    "# all_face_df = pd.concat(all_face_list,0)\n",
    "# all_face_df['overlap'] = all_face_df['overlap'].astype('category')\n",
    "# all_face_df['unit'] = all_face_df['unit'].astype('category')"
   ]
  },
  {
   "cell_type": "code",
   "execution_count": null,
   "metadata": {
    "collapsed": true
   },
   "outputs": [],
   "source": []
  },
  {
   "cell_type": "code",
   "execution_count": 4,
   "metadata": {
    "collapsed": true
   },
   "outputs": [],
   "source": [
    "hidden_c_mass_df = all_c_mass_df[all_c_mass_df['layer']=='hidden'].reset_index()\n",
    "output_c_mass_df = all_c_mass_df[all_c_mass_df['layer']=='output'].reset_index()\n",
    "output_c_mass_df['time']= output_c_mass_df['time'].map({'pre':'Before', 'post':'After'})\n",
    "hidden_c_mass_df['time']= hidden_c_mass_df['time'].map({'pre':'Before', 'post':'After'})\n"
   ]
  },
  {
   "cell_type": "code",
   "execution_count": 5,
   "metadata": {
    "collapsed": true
   },
   "outputs": [],
   "source": [
    "palette_before_after = {'Before': (.6,.6,.6), 'After': (0,0,0)}\n",
    "order_palette = {'first': (.325, .58, .596), 'second': (.741, .304, .545)}\n"
   ]
  },
  {
   "cell_type": "code",
   "execution_count": null,
   "metadata": {
    "collapsed": true
   },
   "outputs": [],
   "source": []
  },
  {
   "cell_type": "markdown",
   "metadata": {},
   "source": [
    "# Within Pair Correlation Over Time\n",
    "<a id='within_pair_correlation'></a>"
   ]
  },
  {
   "cell_type": "code",
   "execution_count": null,
   "metadata": {
    "collapsed": true
   },
   "outputs": [],
   "source": []
  },
  {
   "cell_type": "code",
   "execution_count": null,
   "metadata": {
    "collapsed": true
   },
   "outputs": [],
   "source": []
  },
  {
   "cell_type": "code",
   "execution_count": 7,
   "metadata": {
    "scrolled": false
   },
   "outputs": [
    {
     "data": {
      "text/html": [
       "<div>\n",
       "<style scoped>\n",
       "    .dataframe tbody tr th:only-of-type {\n",
       "        vertical-align: middle;\n",
       "    }\n",
       "\n",
       "    .dataframe tbody tr th {\n",
       "        vertical-align: top;\n",
       "    }\n",
       "\n",
       "    .dataframe thead th {\n",
       "        text-align: right;\n",
       "    }\n",
       "</style>\n",
       "<table border=\"1\" class=\"dataframe\">\n",
       "  <thead>\n",
       "    <tr style=\"text-align: right;\">\n",
       "      <th></th>\n",
       "      <th>|Run</th>\n",
       "      <th>|Epoch</th>\n",
       "      <th>$CurrentTask</th>\n",
       "      <th>$CurrentTest</th>\n",
       "      <th>firstItem</th>\n",
       "      <th>secondItem</th>\n",
       "      <th>correlation</th>\n",
       "      <th>pair</th>\n",
       "      <th>pair_type</th>\n",
       "      <th>layer</th>\n",
       "      <th>same_diff_condition</th>\n",
       "    </tr>\n",
       "  </thead>\n",
       "  <tbody>\n",
       "    <tr>\n",
       "      <th>1</th>\n",
       "      <td>0</td>\n",
       "      <td>-1</td>\n",
       "      <td>TaskColorWOOsc</td>\n",
       "      <td>TestColorAll</td>\n",
       "      <td>med1</td>\n",
       "      <td>med2</td>\n",
       "      <td>0.247057</td>\n",
       "      <td>med1-med2</td>\n",
       "      <td>med1-med2</td>\n",
       "      <td>hidden</td>\n",
       "      <td>Same</td>\n",
       "    </tr>\n",
       "    <tr>\n",
       "      <th>5</th>\n",
       "      <td>0</td>\n",
       "      <td>0</td>\n",
       "      <td>TaskColorRecall</td>\n",
       "      <td>TestColorAll</td>\n",
       "      <td>med1</td>\n",
       "      <td>med2</td>\n",
       "      <td>-0.160091</td>\n",
       "      <td>med1-med2</td>\n",
       "      <td>med1-med2</td>\n",
       "      <td>hidden</td>\n",
       "      <td>Same</td>\n",
       "    </tr>\n",
       "    <tr>\n",
       "      <th>9</th>\n",
       "      <td>0</td>\n",
       "      <td>1</td>\n",
       "      <td>TaskColorRecall</td>\n",
       "      <td>TestColorAll</td>\n",
       "      <td>med1</td>\n",
       "      <td>med2</td>\n",
       "      <td>-0.141573</td>\n",
       "      <td>med1-med2</td>\n",
       "      <td>med1-med2</td>\n",
       "      <td>hidden</td>\n",
       "      <td>Same</td>\n",
       "    </tr>\n",
       "    <tr>\n",
       "      <th>13</th>\n",
       "      <td>0</td>\n",
       "      <td>2</td>\n",
       "      <td>TaskColorRecall</td>\n",
       "      <td>TestColorAll</td>\n",
       "      <td>med1</td>\n",
       "      <td>med2</td>\n",
       "      <td>-0.136295</td>\n",
       "      <td>med1-med2</td>\n",
       "      <td>med1-med2</td>\n",
       "      <td>hidden</td>\n",
       "      <td>Same</td>\n",
       "    </tr>\n",
       "    <tr>\n",
       "      <th>17</th>\n",
       "      <td>0</td>\n",
       "      <td>3</td>\n",
       "      <td>TaskColorRecall</td>\n",
       "      <td>TestColorAll</td>\n",
       "      <td>med1</td>\n",
       "      <td>med2</td>\n",
       "      <td>-0.135833</td>\n",
       "      <td>med1-med2</td>\n",
       "      <td>med1-med2</td>\n",
       "      <td>hidden</td>\n",
       "      <td>Same</td>\n",
       "    </tr>\n",
       "    <tr>\n",
       "      <th>...</th>\n",
       "      <td>...</td>\n",
       "      <td>...</td>\n",
       "      <td>...</td>\n",
       "      <td>...</td>\n",
       "      <td>...</td>\n",
       "      <td>...</td>\n",
       "      <td>...</td>\n",
       "      <td>...</td>\n",
       "      <td>...</td>\n",
       "      <td>...</td>\n",
       "      <td>...</td>\n",
       "    </tr>\n",
       "    <tr>\n",
       "      <th>149</th>\n",
       "      <td>1</td>\n",
       "      <td>15</td>\n",
       "      <td>TaskColorRecall</td>\n",
       "      <td>TestColorAll</td>\n",
       "      <td>med1</td>\n",
       "      <td>med2</td>\n",
       "      <td>0.248662</td>\n",
       "      <td>med1-med2</td>\n",
       "      <td>med1-med2</td>\n",
       "      <td>hidden</td>\n",
       "      <td>Different</td>\n",
       "    </tr>\n",
       "    <tr>\n",
       "      <th>153</th>\n",
       "      <td>1</td>\n",
       "      <td>16</td>\n",
       "      <td>TaskColorRecall</td>\n",
       "      <td>TestColorAll</td>\n",
       "      <td>med1</td>\n",
       "      <td>med2</td>\n",
       "      <td>0.248662</td>\n",
       "      <td>med1-med2</td>\n",
       "      <td>med1-med2</td>\n",
       "      <td>hidden</td>\n",
       "      <td>Different</td>\n",
       "    </tr>\n",
       "    <tr>\n",
       "      <th>157</th>\n",
       "      <td>1</td>\n",
       "      <td>17</td>\n",
       "      <td>TaskColorRecall</td>\n",
       "      <td>TestColorAll</td>\n",
       "      <td>med1</td>\n",
       "      <td>med2</td>\n",
       "      <td>0.248662</td>\n",
       "      <td>med1-med2</td>\n",
       "      <td>med1-med2</td>\n",
       "      <td>hidden</td>\n",
       "      <td>Different</td>\n",
       "    </tr>\n",
       "    <tr>\n",
       "      <th>161</th>\n",
       "      <td>1</td>\n",
       "      <td>18</td>\n",
       "      <td>TaskColorRecall</td>\n",
       "      <td>TestColorAll</td>\n",
       "      <td>med1</td>\n",
       "      <td>med2</td>\n",
       "      <td>0.248662</td>\n",
       "      <td>med1-med2</td>\n",
       "      <td>med1-med2</td>\n",
       "      <td>hidden</td>\n",
       "      <td>Different</td>\n",
       "    </tr>\n",
       "    <tr>\n",
       "      <th>165</th>\n",
       "      <td>1</td>\n",
       "      <td>19</td>\n",
       "      <td>TaskColorRecall</td>\n",
       "      <td>TestColorAll</td>\n",
       "      <td>med1</td>\n",
       "      <td>med2</td>\n",
       "      <td>0.248662</td>\n",
       "      <td>med1-med2</td>\n",
       "      <td>med1-med2</td>\n",
       "      <td>hidden</td>\n",
       "      <td>Different</td>\n",
       "    </tr>\n",
       "  </tbody>\n",
       "</table>\n",
       "<p>84 rows × 11 columns</p>\n",
       "</div>"
      ],
      "text/plain": [
       "     |Run  |Epoch     $CurrentTask  $CurrentTest firstItem secondItem  \\\n",
       "1       0      -1   TaskColorWOOsc  TestColorAll      med1       med2   \n",
       "5       0       0  TaskColorRecall  TestColorAll      med1       med2   \n",
       "9       0       1  TaskColorRecall  TestColorAll      med1       med2   \n",
       "13      0       2  TaskColorRecall  TestColorAll      med1       med2   \n",
       "17      0       3  TaskColorRecall  TestColorAll      med1       med2   \n",
       "..    ...     ...              ...           ...       ...        ...   \n",
       "149     1      15  TaskColorRecall  TestColorAll      med1       med2   \n",
       "153     1      16  TaskColorRecall  TestColorAll      med1       med2   \n",
       "157     1      17  TaskColorRecall  TestColorAll      med1       med2   \n",
       "161     1      18  TaskColorRecall  TestColorAll      med1       med2   \n",
       "165     1      19  TaskColorRecall  TestColorAll      med1       med2   \n",
       "\n",
       "     correlation       pair  pair_type   layer same_diff_condition  \n",
       "1       0.247057  med1-med2  med1-med2  hidden                Same  \n",
       "5      -0.160091  med1-med2  med1-med2  hidden                Same  \n",
       "9      -0.141573  med1-med2  med1-med2  hidden                Same  \n",
       "13     -0.136295  med1-med2  med1-med2  hidden                Same  \n",
       "17     -0.135833  med1-med2  med1-med2  hidden                Same  \n",
       "..           ...        ...        ...     ...                 ...  \n",
       "149     0.248662  med1-med2  med1-med2  hidden           Different  \n",
       "153     0.248662  med1-med2  med1-med2  hidden           Different  \n",
       "157     0.248662  med1-med2  med1-med2  hidden           Different  \n",
       "161     0.248662  med1-med2  med1-med2  hidden           Different  \n",
       "165     0.248662  med1-med2  med1-med2  hidden           Different  \n",
       "\n",
       "[84 rows x 11 columns]"
      ]
     },
     "metadata": {},
     "output_type": "display_data"
    },
    {
     "ename": "ValueError",
     "evalue": "cannot reindex from a duplicate axis",
     "output_type": "error",
     "traceback": [
      "\u001b[0;31m---------------------------------------------------------------------------\u001b[0m",
      "\u001b[0;31mValueError\u001b[0m                                Traceback (most recent call last)",
      "\u001b[0;32m<ipython-input-7-aec45935433b>\u001b[0m in \u001b[0;36m<module>\u001b[0;34m\u001b[0m\n\u001b[1;32m     52\u001b[0m \u001b[0;34m\u001b[0m\u001b[0m\n\u001b[1;32m     53\u001b[0m \u001b[0;34m\u001b[0m\u001b[0m\n\u001b[0;32m---> 54\u001b[0;31m \u001b[0mplot_within_pair_correlation\u001b[0m\u001b[0;34m(\u001b[0m\u001b[0mall_corr_df\u001b[0m\u001b[0;34m,\u001b[0m \u001b[0;34m'hidden'\u001b[0m\u001b[0;34m,\u001b[0m \u001b[0msplit\u001b[0m \u001b[0;34m=\u001b[0m \u001b[0;32mFalse\u001b[0m\u001b[0;34m)\u001b[0m\u001b[0;34m\u001b[0m\u001b[0;34m\u001b[0m\u001b[0m\n\u001b[0m\u001b[1;32m     55\u001b[0m \u001b[0mplot_within_pair_correlation\u001b[0m\u001b[0;34m(\u001b[0m\u001b[0mall_corr_df\u001b[0m\u001b[0;34m,\u001b[0m \u001b[0;34m'hidden'\u001b[0m\u001b[0;34m,\u001b[0m \u001b[0msplit\u001b[0m \u001b[0;34m=\u001b[0m \u001b[0;32mTrue\u001b[0m\u001b[0;34m)\u001b[0m\u001b[0;34m\u001b[0m\u001b[0;34m\u001b[0m\u001b[0m\n\u001b[1;32m     56\u001b[0m \u001b[0mplot_within_pair_correlation\u001b[0m\u001b[0;34m(\u001b[0m\u001b[0mall_corr_df\u001b[0m\u001b[0;34m,\u001b[0m \u001b[0;34m'output'\u001b[0m\u001b[0;34m,\u001b[0m \u001b[0msplit\u001b[0m \u001b[0;34m=\u001b[0m \u001b[0;32mFalse\u001b[0m\u001b[0;34m)\u001b[0m\u001b[0;34m\u001b[0m\u001b[0;34m\u001b[0m\u001b[0m\n",
      "\u001b[0;32m<ipython-input-7-aec45935433b>\u001b[0m in \u001b[0;36mplot_within_pair_correlation\u001b[0;34m(data, layer, split)\u001b[0m\n\u001b[1;32m     36\u001b[0m                      palette = colors_dict, units = '|Run', estimator = None, alpha = .2)\n\u001b[1;32m     37\u001b[0m     \u001b[0;32melif\u001b[0m \u001b[0msplit\u001b[0m \u001b[0;34m==\u001b[0m \u001b[0;32mFalse\u001b[0m\u001b[0;34m:\u001b[0m\u001b[0;34m\u001b[0m\u001b[0;34m\u001b[0m\u001b[0m\n\u001b[0;32m---> 38\u001b[0;31m         sns.lineplot(x = '|Epoch', y = 'correlation', hue='same_diff_condition', data = within_pair_correlation_pre_post,\n\u001b[0m\u001b[1;32m     39\u001b[0m                      palette = colors_dict)\n\u001b[1;32m     40\u001b[0m \u001b[0;34m\u001b[0m\u001b[0m\n",
      "\u001b[0;32m~/anaconda3/envs/leabra/lib/python3.8/site-packages/seaborn/_decorators.py\u001b[0m in \u001b[0;36minner_f\u001b[0;34m(*args, **kwargs)\u001b[0m\n\u001b[1;32m     44\u001b[0m             )\n\u001b[1;32m     45\u001b[0m         \u001b[0mkwargs\u001b[0m\u001b[0;34m.\u001b[0m\u001b[0mupdate\u001b[0m\u001b[0;34m(\u001b[0m\u001b[0;34m{\u001b[0m\u001b[0mk\u001b[0m\u001b[0;34m:\u001b[0m \u001b[0marg\u001b[0m \u001b[0;32mfor\u001b[0m \u001b[0mk\u001b[0m\u001b[0;34m,\u001b[0m \u001b[0marg\u001b[0m \u001b[0;32min\u001b[0m \u001b[0mzip\u001b[0m\u001b[0;34m(\u001b[0m\u001b[0msig\u001b[0m\u001b[0;34m.\u001b[0m\u001b[0mparameters\u001b[0m\u001b[0;34m,\u001b[0m \u001b[0margs\u001b[0m\u001b[0;34m)\u001b[0m\u001b[0;34m}\u001b[0m\u001b[0;34m)\u001b[0m\u001b[0;34m\u001b[0m\u001b[0;34m\u001b[0m\u001b[0m\n\u001b[0;32m---> 46\u001b[0;31m         \u001b[0;32mreturn\u001b[0m \u001b[0mf\u001b[0m\u001b[0;34m(\u001b[0m\u001b[0;34m**\u001b[0m\u001b[0mkwargs\u001b[0m\u001b[0;34m)\u001b[0m\u001b[0;34m\u001b[0m\u001b[0;34m\u001b[0m\u001b[0m\n\u001b[0m\u001b[1;32m     47\u001b[0m     \u001b[0;32mreturn\u001b[0m \u001b[0minner_f\u001b[0m\u001b[0;34m\u001b[0m\u001b[0;34m\u001b[0m\u001b[0m\n\u001b[1;32m     48\u001b[0m \u001b[0;34m\u001b[0m\u001b[0m\n",
      "\u001b[0;32m~/anaconda3/envs/leabra/lib/python3.8/site-packages/seaborn/relational.py\u001b[0m in \u001b[0;36mlineplot\u001b[0;34m(x, y, hue, size, style, data, palette, hue_order, hue_norm, sizes, size_order, size_norm, dashes, markers, style_order, units, estimator, ci, n_boot, seed, sort, err_style, err_kws, legend, ax, **kwargs)\u001b[0m\n\u001b[1;32m    708\u001b[0m     \u001b[0mp\u001b[0m\u001b[0;34m.\u001b[0m\u001b[0m_attach\u001b[0m\u001b[0;34m(\u001b[0m\u001b[0max\u001b[0m\u001b[0;34m)\u001b[0m\u001b[0;34m\u001b[0m\u001b[0;34m\u001b[0m\u001b[0m\n\u001b[1;32m    709\u001b[0m \u001b[0;34m\u001b[0m\u001b[0m\n\u001b[0;32m--> 710\u001b[0;31m     \u001b[0mp\u001b[0m\u001b[0;34m.\u001b[0m\u001b[0mplot\u001b[0m\u001b[0;34m(\u001b[0m\u001b[0max\u001b[0m\u001b[0;34m,\u001b[0m \u001b[0mkwargs\u001b[0m\u001b[0;34m)\u001b[0m\u001b[0;34m\u001b[0m\u001b[0;34m\u001b[0m\u001b[0m\n\u001b[0m\u001b[1;32m    711\u001b[0m     \u001b[0;32mreturn\u001b[0m \u001b[0max\u001b[0m\u001b[0;34m\u001b[0m\u001b[0;34m\u001b[0m\u001b[0m\n\u001b[1;32m    712\u001b[0m \u001b[0;34m\u001b[0m\u001b[0m\n",
      "\u001b[0;32m~/anaconda3/envs/leabra/lib/python3.8/site-packages/seaborn/relational.py\u001b[0m in \u001b[0;36mplot\u001b[0;34m(self, ax, kws)\u001b[0m\n\u001b[1;32m    469\u001b[0m         \u001b[0;31m# Loop over the semantic subsets and add to the plot\u001b[0m\u001b[0;34m\u001b[0m\u001b[0;34m\u001b[0m\u001b[0;34m\u001b[0m\u001b[0m\n\u001b[1;32m    470\u001b[0m         \u001b[0mgrouping_vars\u001b[0m \u001b[0;34m=\u001b[0m \u001b[0;34m\"hue\"\u001b[0m\u001b[0;34m,\u001b[0m \u001b[0;34m\"size\"\u001b[0m\u001b[0;34m,\u001b[0m \u001b[0;34m\"style\"\u001b[0m\u001b[0;34m\u001b[0m\u001b[0;34m\u001b[0m\u001b[0m\n\u001b[0;32m--> 471\u001b[0;31m         \u001b[0;32mfor\u001b[0m \u001b[0msub_vars\u001b[0m\u001b[0;34m,\u001b[0m \u001b[0msub_data\u001b[0m \u001b[0;32min\u001b[0m \u001b[0mself\u001b[0m\u001b[0;34m.\u001b[0m\u001b[0miter_data\u001b[0m\u001b[0;34m(\u001b[0m\u001b[0mgrouping_vars\u001b[0m\u001b[0;34m,\u001b[0m \u001b[0mfrom_comp_data\u001b[0m\u001b[0;34m=\u001b[0m\u001b[0;32mTrue\u001b[0m\u001b[0;34m)\u001b[0m\u001b[0;34m:\u001b[0m\u001b[0;34m\u001b[0m\u001b[0;34m\u001b[0m\u001b[0m\n\u001b[0m\u001b[1;32m    472\u001b[0m \u001b[0;34m\u001b[0m\u001b[0m\n\u001b[1;32m    473\u001b[0m             \u001b[0;32mif\u001b[0m \u001b[0mself\u001b[0m\u001b[0;34m.\u001b[0m\u001b[0msort\u001b[0m\u001b[0;34m:\u001b[0m\u001b[0;34m\u001b[0m\u001b[0;34m\u001b[0m\u001b[0m\n",
      "\u001b[0;32m~/anaconda3/envs/leabra/lib/python3.8/site-packages/seaborn/_core.py\u001b[0m in \u001b[0;36miter_data\u001b[0;34m(self, grouping_vars, reverse, from_comp_data)\u001b[0m\n\u001b[1;32m    981\u001b[0m \u001b[0;34m\u001b[0m\u001b[0m\n\u001b[1;32m    982\u001b[0m         \u001b[0;32mif\u001b[0m \u001b[0mfrom_comp_data\u001b[0m\u001b[0;34m:\u001b[0m\u001b[0;34m\u001b[0m\u001b[0;34m\u001b[0m\u001b[0m\n\u001b[0;32m--> 983\u001b[0;31m             \u001b[0mdata\u001b[0m \u001b[0;34m=\u001b[0m \u001b[0mself\u001b[0m\u001b[0;34m.\u001b[0m\u001b[0mcomp_data\u001b[0m\u001b[0;34m\u001b[0m\u001b[0;34m\u001b[0m\u001b[0m\n\u001b[0m\u001b[1;32m    984\u001b[0m         \u001b[0;32melse\u001b[0m\u001b[0;34m:\u001b[0m\u001b[0;34m\u001b[0m\u001b[0;34m\u001b[0m\u001b[0m\n\u001b[1;32m    985\u001b[0m             \u001b[0mdata\u001b[0m \u001b[0;34m=\u001b[0m \u001b[0mself\u001b[0m\u001b[0;34m.\u001b[0m\u001b[0mplot_data\u001b[0m\u001b[0;34m\u001b[0m\u001b[0;34m\u001b[0m\u001b[0m\n",
      "\u001b[0;32m~/anaconda3/envs/leabra/lib/python3.8/site-packages/seaborn/_core.py\u001b[0m in \u001b[0;36mcomp_data\u001b[0;34m(self)\u001b[0m\n\u001b[1;32m   1055\u001b[0m                     \u001b[0morig\u001b[0m \u001b[0;34m=\u001b[0m \u001b[0mself\u001b[0m\u001b[0;34m.\u001b[0m\u001b[0mplot_data\u001b[0m\u001b[0;34m[\u001b[0m\u001b[0mvar\u001b[0m\u001b[0;34m]\u001b[0m\u001b[0;34m.\u001b[0m\u001b[0mdropna\u001b[0m\u001b[0;34m(\u001b[0m\u001b[0;34m)\u001b[0m\u001b[0;34m\u001b[0m\u001b[0;34m\u001b[0m\u001b[0m\n\u001b[1;32m   1056\u001b[0m                 \u001b[0mcomp_col\u001b[0m \u001b[0;34m=\u001b[0m \u001b[0mpd\u001b[0m\u001b[0;34m.\u001b[0m\u001b[0mSeries\u001b[0m\u001b[0;34m(\u001b[0m\u001b[0mindex\u001b[0m\u001b[0;34m=\u001b[0m\u001b[0morig\u001b[0m\u001b[0;34m.\u001b[0m\u001b[0mindex\u001b[0m\u001b[0;34m,\u001b[0m \u001b[0mdtype\u001b[0m\u001b[0;34m=\u001b[0m\u001b[0mfloat\u001b[0m\u001b[0;34m,\u001b[0m \u001b[0mname\u001b[0m\u001b[0;34m=\u001b[0m\u001b[0mvar\u001b[0m\u001b[0;34m)\u001b[0m\u001b[0;34m\u001b[0m\u001b[0;34m\u001b[0m\u001b[0m\n\u001b[0;32m-> 1057\u001b[0;31m                 \u001b[0mcomp_col\u001b[0m\u001b[0;34m.\u001b[0m\u001b[0mloc\u001b[0m\u001b[0;34m[\u001b[0m\u001b[0morig\u001b[0m\u001b[0;34m.\u001b[0m\u001b[0mindex\u001b[0m\u001b[0;34m]\u001b[0m \u001b[0;34m=\u001b[0m \u001b[0mpd\u001b[0m\u001b[0;34m.\u001b[0m\u001b[0mto_numeric\u001b[0m\u001b[0;34m(\u001b[0m\u001b[0maxis\u001b[0m\u001b[0;34m.\u001b[0m\u001b[0mconvert_units\u001b[0m\u001b[0;34m(\u001b[0m\u001b[0morig\u001b[0m\u001b[0;34m)\u001b[0m\u001b[0;34m)\u001b[0m\u001b[0;34m\u001b[0m\u001b[0;34m\u001b[0m\u001b[0m\n\u001b[0m\u001b[1;32m   1058\u001b[0m \u001b[0;34m\u001b[0m\u001b[0m\n\u001b[1;32m   1059\u001b[0m                 \u001b[0;32mif\u001b[0m \u001b[0maxis\u001b[0m\u001b[0;34m.\u001b[0m\u001b[0mget_scale\u001b[0m\u001b[0;34m(\u001b[0m\u001b[0;34m)\u001b[0m \u001b[0;34m==\u001b[0m \u001b[0;34m\"log\"\u001b[0m\u001b[0;34m:\u001b[0m\u001b[0;34m\u001b[0m\u001b[0;34m\u001b[0m\u001b[0m\n",
      "\u001b[0;32m~/anaconda3/envs/leabra/lib/python3.8/site-packages/pandas/core/indexing.py\u001b[0m in \u001b[0;36m__setitem__\u001b[0;34m(self, key, value)\u001b[0m\n\u001b[1;32m    668\u001b[0m \u001b[0;34m\u001b[0m\u001b[0m\n\u001b[1;32m    669\u001b[0m         \u001b[0miloc\u001b[0m \u001b[0;34m=\u001b[0m \u001b[0mself\u001b[0m \u001b[0;32mif\u001b[0m \u001b[0mself\u001b[0m\u001b[0;34m.\u001b[0m\u001b[0mname\u001b[0m \u001b[0;34m==\u001b[0m \u001b[0;34m\"iloc\"\u001b[0m \u001b[0;32melse\u001b[0m \u001b[0mself\u001b[0m\u001b[0;34m.\u001b[0m\u001b[0mobj\u001b[0m\u001b[0;34m.\u001b[0m\u001b[0miloc\u001b[0m\u001b[0;34m\u001b[0m\u001b[0;34m\u001b[0m\u001b[0m\n\u001b[0;32m--> 670\u001b[0;31m         \u001b[0miloc\u001b[0m\u001b[0;34m.\u001b[0m\u001b[0m_setitem_with_indexer\u001b[0m\u001b[0;34m(\u001b[0m\u001b[0mindexer\u001b[0m\u001b[0;34m,\u001b[0m \u001b[0mvalue\u001b[0m\u001b[0;34m)\u001b[0m\u001b[0;34m\u001b[0m\u001b[0;34m\u001b[0m\u001b[0m\n\u001b[0m\u001b[1;32m    671\u001b[0m \u001b[0;34m\u001b[0m\u001b[0m\n\u001b[1;32m    672\u001b[0m     \u001b[0;32mdef\u001b[0m \u001b[0m_validate_key\u001b[0m\u001b[0;34m(\u001b[0m\u001b[0mself\u001b[0m\u001b[0;34m,\u001b[0m \u001b[0mkey\u001b[0m\u001b[0;34m,\u001b[0m \u001b[0maxis\u001b[0m\u001b[0;34m:\u001b[0m \u001b[0mint\u001b[0m\u001b[0;34m)\u001b[0m\u001b[0;34m:\u001b[0m\u001b[0;34m\u001b[0m\u001b[0;34m\u001b[0m\u001b[0m\n",
      "\u001b[0;32m~/anaconda3/envs/leabra/lib/python3.8/site-packages/pandas/core/indexing.py\u001b[0m in \u001b[0;36m_setitem_with_indexer\u001b[0;34m(self, indexer, value)\u001b[0m\n\u001b[1;32m   1788\u001b[0m                 \u001b[0;31m# setting for extensionarrays that store dicts. Need to decide\u001b[0m\u001b[0;34m\u001b[0m\u001b[0;34m\u001b[0m\u001b[0;34m\u001b[0m\u001b[0m\n\u001b[1;32m   1789\u001b[0m                 \u001b[0;31m# if it's worth supporting that.\u001b[0m\u001b[0;34m\u001b[0m\u001b[0;34m\u001b[0m\u001b[0;34m\u001b[0m\u001b[0m\n\u001b[0;32m-> 1790\u001b[0;31m                 \u001b[0mvalue\u001b[0m \u001b[0;34m=\u001b[0m \u001b[0mself\u001b[0m\u001b[0;34m.\u001b[0m\u001b[0m_align_series\u001b[0m\u001b[0;34m(\u001b[0m\u001b[0mindexer\u001b[0m\u001b[0;34m,\u001b[0m \u001b[0mSeries\u001b[0m\u001b[0;34m(\u001b[0m\u001b[0mvalue\u001b[0m\u001b[0;34m)\u001b[0m\u001b[0;34m)\u001b[0m\u001b[0;34m\u001b[0m\u001b[0;34m\u001b[0m\u001b[0m\n\u001b[0m\u001b[1;32m   1791\u001b[0m \u001b[0;34m\u001b[0m\u001b[0m\n\u001b[1;32m   1792\u001b[0m             \u001b[0;32melif\u001b[0m \u001b[0misinstance\u001b[0m\u001b[0;34m(\u001b[0m\u001b[0mvalue\u001b[0m\u001b[0;34m,\u001b[0m \u001b[0mABCDataFrame\u001b[0m\u001b[0;34m)\u001b[0m\u001b[0;34m:\u001b[0m\u001b[0;34m\u001b[0m\u001b[0;34m\u001b[0m\u001b[0m\n",
      "\u001b[0;32m~/anaconda3/envs/leabra/lib/python3.8/site-packages/pandas/core/indexing.py\u001b[0m in \u001b[0;36m_align_series\u001b[0;34m(self, indexer, ser, multiindex_indexer)\u001b[0m\n\u001b[1;32m   1907\u001b[0m             \u001b[0;31m# series, so need to broadcast (see GH5206)\u001b[0m\u001b[0;34m\u001b[0m\u001b[0;34m\u001b[0m\u001b[0;34m\u001b[0m\u001b[0m\n\u001b[1;32m   1908\u001b[0m             \u001b[0;32mif\u001b[0m \u001b[0msum_aligners\u001b[0m \u001b[0;34m==\u001b[0m \u001b[0mself\u001b[0m\u001b[0;34m.\u001b[0m\u001b[0mndim\u001b[0m \u001b[0;32mand\u001b[0m \u001b[0mall\u001b[0m\u001b[0;34m(\u001b[0m\u001b[0mis_sequence\u001b[0m\u001b[0;34m(\u001b[0m\u001b[0m_\u001b[0m\u001b[0;34m)\u001b[0m \u001b[0;32mfor\u001b[0m \u001b[0m_\u001b[0m \u001b[0;32min\u001b[0m \u001b[0mindexer\u001b[0m\u001b[0;34m)\u001b[0m\u001b[0;34m:\u001b[0m\u001b[0;34m\u001b[0m\u001b[0;34m\u001b[0m\u001b[0m\n\u001b[0;32m-> 1909\u001b[0;31m                 \u001b[0mser\u001b[0m \u001b[0;34m=\u001b[0m \u001b[0mser\u001b[0m\u001b[0;34m.\u001b[0m\u001b[0mreindex\u001b[0m\u001b[0;34m(\u001b[0m\u001b[0mobj\u001b[0m\u001b[0;34m.\u001b[0m\u001b[0maxes\u001b[0m\u001b[0;34m[\u001b[0m\u001b[0;36m0\u001b[0m\u001b[0;34m]\u001b[0m\u001b[0;34m[\u001b[0m\u001b[0mindexer\u001b[0m\u001b[0;34m[\u001b[0m\u001b[0;36m0\u001b[0m\u001b[0;34m]\u001b[0m\u001b[0;34m]\u001b[0m\u001b[0;34m,\u001b[0m \u001b[0mcopy\u001b[0m\u001b[0;34m=\u001b[0m\u001b[0;32mTrue\u001b[0m\u001b[0;34m)\u001b[0m\u001b[0;34m.\u001b[0m\u001b[0m_values\u001b[0m\u001b[0;34m\u001b[0m\u001b[0;34m\u001b[0m\u001b[0m\n\u001b[0m\u001b[1;32m   1910\u001b[0m \u001b[0;34m\u001b[0m\u001b[0m\n\u001b[1;32m   1911\u001b[0m                 \u001b[0;31m# single indexer\u001b[0m\u001b[0;34m\u001b[0m\u001b[0;34m\u001b[0m\u001b[0;34m\u001b[0m\u001b[0m\n",
      "\u001b[0;32m~/anaconda3/envs/leabra/lib/python3.8/site-packages/pandas/core/series.py\u001b[0m in \u001b[0;36mreindex\u001b[0;34m(self, index, **kwargs)\u001b[0m\n\u001b[1;32m   4410\u001b[0m     )\n\u001b[1;32m   4411\u001b[0m     \u001b[0;32mdef\u001b[0m \u001b[0mreindex\u001b[0m\u001b[0;34m(\u001b[0m\u001b[0mself\u001b[0m\u001b[0;34m,\u001b[0m \u001b[0mindex\u001b[0m\u001b[0;34m=\u001b[0m\u001b[0;32mNone\u001b[0m\u001b[0;34m,\u001b[0m \u001b[0;34m**\u001b[0m\u001b[0mkwargs\u001b[0m\u001b[0;34m)\u001b[0m\u001b[0;34m:\u001b[0m\u001b[0;34m\u001b[0m\u001b[0;34m\u001b[0m\u001b[0m\n\u001b[0;32m-> 4412\u001b[0;31m         \u001b[0;32mreturn\u001b[0m \u001b[0msuper\u001b[0m\u001b[0;34m(\u001b[0m\u001b[0;34m)\u001b[0m\u001b[0;34m.\u001b[0m\u001b[0mreindex\u001b[0m\u001b[0;34m(\u001b[0m\u001b[0mindex\u001b[0m\u001b[0;34m=\u001b[0m\u001b[0mindex\u001b[0m\u001b[0;34m,\u001b[0m \u001b[0;34m**\u001b[0m\u001b[0mkwargs\u001b[0m\u001b[0;34m)\u001b[0m\u001b[0;34m\u001b[0m\u001b[0;34m\u001b[0m\u001b[0m\n\u001b[0m\u001b[1;32m   4413\u001b[0m \u001b[0;34m\u001b[0m\u001b[0m\n\u001b[1;32m   4414\u001b[0m     def drop(\n",
      "\u001b[0;32m~/anaconda3/envs/leabra/lib/python3.8/site-packages/pandas/core/generic.py\u001b[0m in \u001b[0;36mreindex\u001b[0;34m(self, *args, **kwargs)\u001b[0m\n\u001b[1;32m   4461\u001b[0m \u001b[0;34m\u001b[0m\u001b[0m\n\u001b[1;32m   4462\u001b[0m         \u001b[0;31m# perform the reindex on the axes\u001b[0m\u001b[0;34m\u001b[0m\u001b[0;34m\u001b[0m\u001b[0;34m\u001b[0m\u001b[0m\n\u001b[0;32m-> 4463\u001b[0;31m         return self._reindex_axes(\n\u001b[0m\u001b[1;32m   4464\u001b[0m             \u001b[0maxes\u001b[0m\u001b[0;34m,\u001b[0m \u001b[0mlevel\u001b[0m\u001b[0;34m,\u001b[0m \u001b[0mlimit\u001b[0m\u001b[0;34m,\u001b[0m \u001b[0mtolerance\u001b[0m\u001b[0;34m,\u001b[0m \u001b[0mmethod\u001b[0m\u001b[0;34m,\u001b[0m \u001b[0mfill_value\u001b[0m\u001b[0;34m,\u001b[0m \u001b[0mcopy\u001b[0m\u001b[0;34m\u001b[0m\u001b[0;34m\u001b[0m\u001b[0m\n\u001b[1;32m   4465\u001b[0m         ).__finalize__(self, method=\"reindex\")\n",
      "\u001b[0;32m~/anaconda3/envs/leabra/lib/python3.8/site-packages/pandas/core/generic.py\u001b[0m in \u001b[0;36m_reindex_axes\u001b[0;34m(self, axes, level, limit, tolerance, method, fill_value, copy)\u001b[0m\n\u001b[1;32m   4481\u001b[0m \u001b[0;34m\u001b[0m\u001b[0m\n\u001b[1;32m   4482\u001b[0m             \u001b[0maxis\u001b[0m \u001b[0;34m=\u001b[0m \u001b[0mself\u001b[0m\u001b[0;34m.\u001b[0m\u001b[0m_get_axis_number\u001b[0m\u001b[0;34m(\u001b[0m\u001b[0ma\u001b[0m\u001b[0;34m)\u001b[0m\u001b[0;34m\u001b[0m\u001b[0;34m\u001b[0m\u001b[0m\n\u001b[0;32m-> 4483\u001b[0;31m             obj = obj._reindex_with_indexers(\n\u001b[0m\u001b[1;32m   4484\u001b[0m                 \u001b[0;34m{\u001b[0m\u001b[0maxis\u001b[0m\u001b[0;34m:\u001b[0m \u001b[0;34m[\u001b[0m\u001b[0mnew_index\u001b[0m\u001b[0;34m,\u001b[0m \u001b[0mindexer\u001b[0m\u001b[0;34m]\u001b[0m\u001b[0;34m}\u001b[0m\u001b[0;34m,\u001b[0m\u001b[0;34m\u001b[0m\u001b[0;34m\u001b[0m\u001b[0m\n\u001b[1;32m   4485\u001b[0m                 \u001b[0mfill_value\u001b[0m\u001b[0;34m=\u001b[0m\u001b[0mfill_value\u001b[0m\u001b[0;34m,\u001b[0m\u001b[0;34m\u001b[0m\u001b[0;34m\u001b[0m\u001b[0m\n",
      "\u001b[0;32m~/anaconda3/envs/leabra/lib/python3.8/site-packages/pandas/core/generic.py\u001b[0m in \u001b[0;36m_reindex_with_indexers\u001b[0;34m(self, reindexers, fill_value, copy, allow_dups)\u001b[0m\n\u001b[1;32m   4524\u001b[0m \u001b[0;34m\u001b[0m\u001b[0m\n\u001b[1;32m   4525\u001b[0m             \u001b[0;31m# TODO: speed up on homogeneous DataFrame objects\u001b[0m\u001b[0;34m\u001b[0m\u001b[0;34m\u001b[0m\u001b[0;34m\u001b[0m\u001b[0m\n\u001b[0;32m-> 4526\u001b[0;31m             new_data = new_data.reindex_indexer(\n\u001b[0m\u001b[1;32m   4527\u001b[0m                 \u001b[0mindex\u001b[0m\u001b[0;34m,\u001b[0m\u001b[0;34m\u001b[0m\u001b[0;34m\u001b[0m\u001b[0m\n\u001b[1;32m   4528\u001b[0m                 \u001b[0mindexer\u001b[0m\u001b[0;34m,\u001b[0m\u001b[0;34m\u001b[0m\u001b[0;34m\u001b[0m\u001b[0m\n",
      "\u001b[0;32m~/anaconda3/envs/leabra/lib/python3.8/site-packages/pandas/core/internals/managers.py\u001b[0m in \u001b[0;36mreindex_indexer\u001b[0;34m(self, new_axis, indexer, axis, fill_value, allow_dups, copy, consolidate)\u001b[0m\n\u001b[1;32m   1283\u001b[0m         \u001b[0;31m# some axes don't allow reindexing with dups\u001b[0m\u001b[0;34m\u001b[0m\u001b[0;34m\u001b[0m\u001b[0;34m\u001b[0m\u001b[0m\n\u001b[1;32m   1284\u001b[0m         \u001b[0;32mif\u001b[0m \u001b[0;32mnot\u001b[0m \u001b[0mallow_dups\u001b[0m\u001b[0;34m:\u001b[0m\u001b[0;34m\u001b[0m\u001b[0;34m\u001b[0m\u001b[0m\n\u001b[0;32m-> 1285\u001b[0;31m             \u001b[0mself\u001b[0m\u001b[0;34m.\u001b[0m\u001b[0maxes\u001b[0m\u001b[0;34m[\u001b[0m\u001b[0maxis\u001b[0m\u001b[0;34m]\u001b[0m\u001b[0;34m.\u001b[0m\u001b[0m_can_reindex\u001b[0m\u001b[0;34m(\u001b[0m\u001b[0mindexer\u001b[0m\u001b[0;34m)\u001b[0m\u001b[0;34m\u001b[0m\u001b[0;34m\u001b[0m\u001b[0m\n\u001b[0m\u001b[1;32m   1286\u001b[0m \u001b[0;34m\u001b[0m\u001b[0m\n\u001b[1;32m   1287\u001b[0m         \u001b[0;32mif\u001b[0m \u001b[0maxis\u001b[0m \u001b[0;34m>=\u001b[0m \u001b[0mself\u001b[0m\u001b[0;34m.\u001b[0m\u001b[0mndim\u001b[0m\u001b[0;34m:\u001b[0m\u001b[0;34m\u001b[0m\u001b[0;34m\u001b[0m\u001b[0m\n",
      "\u001b[0;32m~/anaconda3/envs/leabra/lib/python3.8/site-packages/pandas/core/indexes/base.py\u001b[0m in \u001b[0;36m_can_reindex\u001b[0;34m(self, indexer)\u001b[0m\n\u001b[1;32m   3290\u001b[0m         \u001b[0;31m# trying to reindex on an axis with duplicates\u001b[0m\u001b[0;34m\u001b[0m\u001b[0;34m\u001b[0m\u001b[0;34m\u001b[0m\u001b[0m\n\u001b[1;32m   3291\u001b[0m         \u001b[0;32mif\u001b[0m \u001b[0;32mnot\u001b[0m \u001b[0mself\u001b[0m\u001b[0;34m.\u001b[0m\u001b[0mis_unique\u001b[0m \u001b[0;32mand\u001b[0m \u001b[0mlen\u001b[0m\u001b[0;34m(\u001b[0m\u001b[0mindexer\u001b[0m\u001b[0;34m)\u001b[0m\u001b[0;34m:\u001b[0m\u001b[0;34m\u001b[0m\u001b[0;34m\u001b[0m\u001b[0m\n\u001b[0;32m-> 3292\u001b[0;31m             \u001b[0;32mraise\u001b[0m \u001b[0mValueError\u001b[0m\u001b[0;34m(\u001b[0m\u001b[0;34m\"cannot reindex from a duplicate axis\"\u001b[0m\u001b[0;34m)\u001b[0m\u001b[0;34m\u001b[0m\u001b[0;34m\u001b[0m\u001b[0m\n\u001b[0m\u001b[1;32m   3293\u001b[0m \u001b[0;34m\u001b[0m\u001b[0m\n\u001b[1;32m   3294\u001b[0m     \u001b[0;32mdef\u001b[0m \u001b[0mreindex\u001b[0m\u001b[0;34m(\u001b[0m\u001b[0mself\u001b[0m\u001b[0;34m,\u001b[0m \u001b[0mtarget\u001b[0m\u001b[0;34m,\u001b[0m \u001b[0mmethod\u001b[0m\u001b[0;34m=\u001b[0m\u001b[0;32mNone\u001b[0m\u001b[0;34m,\u001b[0m \u001b[0mlevel\u001b[0m\u001b[0;34m=\u001b[0m\u001b[0;32mNone\u001b[0m\u001b[0;34m,\u001b[0m \u001b[0mlimit\u001b[0m\u001b[0;34m=\u001b[0m\u001b[0;32mNone\u001b[0m\u001b[0;34m,\u001b[0m \u001b[0mtolerance\u001b[0m\u001b[0;34m=\u001b[0m\u001b[0;32mNone\u001b[0m\u001b[0;34m)\u001b[0m\u001b[0;34m:\u001b[0m\u001b[0;34m\u001b[0m\u001b[0;34m\u001b[0m\u001b[0m\n",
      "\u001b[0;31mValueError\u001b[0m: cannot reindex from a duplicate axis"
     ]
    },
    {
     "data": {
      "image/png": "[encoded data removed]",
      "text/plain": [
       "<Figure size 432x288 with 1 Axes>"
      ]
     },
     "metadata": {
      "needs_background": "light"
     },
     "output_type": "display_data"
    }
   ],
   "source": [
    "# def plot_within_pair_correlation(data, layer):\n",
    "\n",
    "#     plt.clf()\n",
    "#     is_within_pair = data['pair_type'] == 'med1-med2'\n",
    "#     is_layer = data['layer'] == layer\n",
    "\n",
    "#     within_pair_correlation_pre_post = data[(is_within_pair) & (is_layer)]\n",
    "\n",
    "#     sns.lineplot(x = '|Epoch', y = 'correlation', hue='same_diff_condition', \n",
    "#                  data = within_pair_correlation_pre_post, palette = colors_dict)\n",
    "#     plt.axhline(y = 0, c = 'k')\n",
    "#     plt.ylim([-1.1, 1.1])\n",
    "#     title = 'Within-Pair Correlation Over Time: ' + layer.capitalize() + ' Layer'\n",
    "#     plt.title(title)\n",
    "#     plt.legend(title = 'Condition', bbox_to_anchor = (1.05, 1), loc = 2, borderaxespad = 0.)\n",
    "#     plt.xlabel('Epoch')\n",
    "    \n",
    "#     plt.savefig(results_dir + title + '.png', bbox_inches='tight')\n",
    "#     plt.show()\n",
    "\n",
    "    \n",
    "# plot_within_pair_correlation(all_corr_df, 'hidden')\n",
    "# plot_within_pair_correlation(all_corr_df, 'output')\n",
    "\n",
    "\n",
    "\n",
    "# def plot_within_pair_correlation(data, layer, split = False):\n",
    "#     plt.clf()\n",
    "#     is_within_pair = data['pair_type'] == 'med1-med2'\n",
    "#     is_layer = data['layer'] == layer\n",
    "\n",
    "#     within_pair_correlation_pre_post = data[(is_within_pair) & (is_layer)]\n",
    "#     display(within_pair_correlation_pre_post)\n",
    "#     if split == True:\n",
    "#         sns.lineplot(x = '|Epoch', y = 'correlation', hue='same_diff_condition', data = within_pair_correlation_pre_post,\n",
    "#                      palette = colors_dict, units = '|Run', estimator = None, alpha = .2)\n",
    "#     elif split == False:\n",
    "#         sns.lineplot(x = '|Epoch', y = 'correlation', hue='same_diff_condition', data = within_pair_correlation_pre_post,\n",
    "#                      palette = colors_dict)\n",
    "\n",
    "#     plt.axhline(y = 0, c = 'k')\n",
    "#     plt.ylim([-1.1, 1.1])\n",
    "#     title = 'Within-Pair Correlation Over Time: ' + layer.capitalize() + ' Layer'\n",
    "#     if split == True:\n",
    "#         title = title + ' (runs)'\n",
    "#     plt.legend(title = 'Condition', bbox_to_anchor = (1.05, 1), loc = 2, borderaxespad=0.)\n",
    "#     plt.xlabel('Epoch')\n",
    "#     plt.title(title)\n",
    "        \n",
    "#     plt.savefig(results_dir + title + '.png', bbox_inches='tight')\n",
    "#     plt.show()\n",
    "\n",
    "    \n",
    "# plot_within_pair_correlation(all_corr_df, 'hidden', split = False)\n",
    "# plot_within_pair_correlation(all_corr_df, 'hidden', split = True)\n",
    "# plot_within_pair_correlation(all_corr_df, 'output', split = False)\n",
    "# plot_within_pair_correlation(all_corr_df, 'output', split = True)\n",
    "\n"
   ]
  },
  {
   "cell_type": "code",
   "execution_count": 8,
   "metadata": {
    "collapsed": true
   },
   "outputs": [],
   "source": [
    "def select_data(data):\n",
    "    \n",
    "    is_within_pair = data['pair_type'] == 'med1-med2'\n",
    "    is_layer = data['layer'] == 'hidden'\n",
    "    is_pre_or_post = data['|Epoch'].isin([data['|Epoch'].min(), data['|Epoch'].max()])\n",
    "\n",
    "    within_pair_correlation_pre_post = data[(is_within_pair) & (is_layer) & (is_pre_or_post)]\n",
    "    within_pair_correlation_pre_post\n",
    "    \n",
    "    return within_pair_correlation_pre_post\n",
    "\n",
    "within_pair_correlation_pre_post = select_data(all_corr_df)\n",
    "\n",
    "\n"
   ]
  },
  {
   "cell_type": "code",
   "execution_count": 9,
   "metadata": {},
   "outputs": [
    {
     "name": "stderr",
     "output_type": "stream",
     "text": [
      "<ipython-input-9-d625a41ee644>:4: SettingWithCopyWarning: \n",
      "A value is trying to be set on a copy of a slice from a DataFrame.\n",
      "Try using .loc[row_indexer,col_indexer] = value instead\n",
      "\n",
      "See the caveats in the documentation: https://pandas.pydata.org/pandas-docs/stable/user_guide/indexing.html#returning-a-view-versus-a-copy\n",
      "  within_pair_correlation_pre_post['Time'] = within_pair_correlation_pre_post['|Epoch'].map({epoch_min:'Before', epoch_max:'After'})\n"
     ]
    }
   ],
   "source": [
    "epoch_min = within_pair_correlation_pre_post['|Epoch'].min()\n",
    "epoch_max = within_pair_correlation_pre_post['|Epoch'].max()\n",
    "\n",
    "within_pair_correlation_pre_post['Time'] = within_pair_correlation_pre_post['|Epoch'].map({epoch_min:'Before', epoch_max:'After'})\n",
    "\n"
   ]
  },
  {
   "cell_type": "code",
   "execution_count": 10,
   "metadata": {},
   "outputs": [
    {
     "data": {
      "text/html": [
       "<div>\n",
       "<style scoped>\n",
       "    .dataframe tbody tr th:only-of-type {\n",
       "        vertical-align: middle;\n",
       "    }\n",
       "\n",
       "    .dataframe tbody tr th {\n",
       "        vertical-align: top;\n",
       "    }\n",
       "\n",
       "    .dataframe thead th {\n",
       "        text-align: right;\n",
       "    }\n",
       "</style>\n",
       "<table border=\"1\" class=\"dataframe\">\n",
       "  <thead>\n",
       "    <tr style=\"text-align: right;\">\n",
       "      <th></th>\n",
       "      <th>|Run</th>\n",
       "      <th>|Epoch</th>\n",
       "      <th>$CurrentTask</th>\n",
       "      <th>$CurrentTest</th>\n",
       "      <th>firstItem</th>\n",
       "      <th>secondItem</th>\n",
       "      <th>correlation</th>\n",
       "      <th>pair</th>\n",
       "      <th>pair_type</th>\n",
       "      <th>layer</th>\n",
       "      <th>same_diff_condition</th>\n",
       "      <th>Time</th>\n",
       "    </tr>\n",
       "  </thead>\n",
       "  <tbody>\n",
       "    <tr>\n",
       "      <th>1</th>\n",
       "      <td>0</td>\n",
       "      <td>-1</td>\n",
       "      <td>TaskColorWOOsc</td>\n",
       "      <td>TestColorAll</td>\n",
       "      <td>med1</td>\n",
       "      <td>med2</td>\n",
       "      <td>0.247057</td>\n",
       "      <td>med1-med2</td>\n",
       "      <td>med1-med2</td>\n",
       "      <td>hidden</td>\n",
       "      <td>Same</td>\n",
       "      <td>Before</td>\n",
       "    </tr>\n",
       "    <tr>\n",
       "      <th>81</th>\n",
       "      <td>0</td>\n",
       "      <td>19</td>\n",
       "      <td>TaskColorRecall</td>\n",
       "      <td>TestColorAll</td>\n",
       "      <td>med1</td>\n",
       "      <td>med2</td>\n",
       "      <td>-0.135267</td>\n",
       "      <td>med1-med2</td>\n",
       "      <td>med1-med2</td>\n",
       "      <td>hidden</td>\n",
       "      <td>Same</td>\n",
       "      <td>After</td>\n",
       "    </tr>\n",
       "    <tr>\n",
       "      <th>85</th>\n",
       "      <td>1</td>\n",
       "      <td>-1</td>\n",
       "      <td>TaskColorWOOsc</td>\n",
       "      <td>TestColorAll</td>\n",
       "      <td>med1</td>\n",
       "      <td>med2</td>\n",
       "      <td>0.249758</td>\n",
       "      <td>med1-med2</td>\n",
       "      <td>med1-med2</td>\n",
       "      <td>hidden</td>\n",
       "      <td>Same</td>\n",
       "      <td>Before</td>\n",
       "    </tr>\n",
       "    <tr>\n",
       "      <th>165</th>\n",
       "      <td>1</td>\n",
       "      <td>19</td>\n",
       "      <td>TaskColorRecall</td>\n",
       "      <td>TestColorAll</td>\n",
       "      <td>med1</td>\n",
       "      <td>med2</td>\n",
       "      <td>-0.134349</td>\n",
       "      <td>med1-med2</td>\n",
       "      <td>med1-med2</td>\n",
       "      <td>hidden</td>\n",
       "      <td>Same</td>\n",
       "      <td>After</td>\n",
       "    </tr>\n",
       "    <tr>\n",
       "      <th>1</th>\n",
       "      <td>0</td>\n",
       "      <td>-1</td>\n",
       "      <td>TaskColorWOOsc</td>\n",
       "      <td>TestColorAll</td>\n",
       "      <td>med1</td>\n",
       "      <td>med2</td>\n",
       "      <td>0.246666</td>\n",
       "      <td>med1-med2</td>\n",
       "      <td>med1-med2</td>\n",
       "      <td>hidden</td>\n",
       "      <td>Different</td>\n",
       "      <td>Before</td>\n",
       "    </tr>\n",
       "  </tbody>\n",
       "</table>\n",
       "</div>"
      ],
      "text/plain": [
       "     |Run  |Epoch     $CurrentTask  $CurrentTest firstItem secondItem  \\\n",
       "1       0      -1   TaskColorWOOsc  TestColorAll      med1       med2   \n",
       "81      0      19  TaskColorRecall  TestColorAll      med1       med2   \n",
       "85      1      -1   TaskColorWOOsc  TestColorAll      med1       med2   \n",
       "165     1      19  TaskColorRecall  TestColorAll      med1       med2   \n",
       "1       0      -1   TaskColorWOOsc  TestColorAll      med1       med2   \n",
       "\n",
       "     correlation       pair  pair_type   layer same_diff_condition    Time  \n",
       "1       0.247057  med1-med2  med1-med2  hidden                Same  Before  \n",
       "81     -0.135267  med1-med2  med1-med2  hidden                Same   After  \n",
       "85      0.249758  med1-med2  med1-med2  hidden                Same  Before  \n",
       "165    -0.134349  med1-med2  med1-med2  hidden                Same   After  \n",
       "1       0.246666  med1-med2  med1-med2  hidden           Different  Before  "
      ]
     },
     "execution_count": 10,
     "metadata": {},
     "output_type": "execute_result"
    }
   ],
   "source": [
    "within_pair_correlation_pre_post.head()"
   ]
  },
  {
   "cell_type": "code",
   "execution_count": 11,
   "metadata": {},
   "outputs": [
    {
     "name": "stderr",
     "output_type": "stream",
     "text": [
      "The PostScript backend does not support transparency; partially transparent artists will be rendered opaque.\n",
      "The PostScript backend does not support transparency; partially transparent artists will be rendered opaque.\n",
      "The PostScript backend does not support transparency; partially transparent artists will be rendered opaque.\n",
      "The PostScript backend does not support transparency; partially transparent artists will be rendered opaque.\n"
     ]
    },
    {
     "data": {
      "image/png": "[encoded data removed]",
      "text/plain": [
       "<Figure size 432x288 with 1 Axes>"
      ]
     },
     "metadata": {
      "needs_background": "light"
     },
     "output_type": "display_data"
    }
   ],
   "source": [
    "def pre_post_corr_parameter_shift(data, x_parameter, ribbon = False):\n",
    "    plt.clf()\n",
    "\n",
    "#     ax = sns.stripplot(x = parameter, y = 'correlation', hue = '|Epoch', \n",
    "#                  data = within_pair_correlation_pre_post, dodge = .3, alpha = .1, palette = 'Dark2_r')\n",
    "\n",
    "    x = np.arange(-1, 2, .01)\n",
    "    \n",
    "    if ribbon == True:\n",
    "        plt.fill_between(x, .21, .29, alpha  = .2, color = 'grey')\n",
    "        \n",
    "    ax = sns.pointplot(x = 'same_diff_condition', y = 'correlation', hue = 'Time', \n",
    "                  linestyles = '', dodge = .3, data = data, palette = palette_before_after)\n",
    "    \n",
    "    num_categories = len(data['same_diff_condition'].unique())\n",
    "    for (x1, y1), (x2, y2) in zip(ax.lines[0].get_xydata(), ax.lines[num_categories + 1].get_xydata()):\n",
    "        ax.plot([x1, x2], [y1, y2], color='black', zorder = 0)\n",
    "\n",
    "    plt.axhline(0, color = 'k', linestyle = '-', zorder = 0)\n",
    "\n",
    "    handles, labels = ax.get_legend_handles_labels()\n",
    "    \n",
    "    l = plt.legend(handles[0:2], labels[0:2], bbox_to_anchor=(1.05, 1), loc=2, borderaxespad=0.)\n",
    "    \n",
    "\n",
    "#     l.get_texts()[0].set_text('before')\n",
    "#     l.get_texts()[1].set_text('after')\n",
    "    title = 'Fig 8a: Hidden Layer Within-Pair Correlation'\n",
    "    plt.xlabel('Same or Different Face')\n",
    "    plt.ylim([-1,1.1])\n",
    "    ax.spines['top'].set_visible(False)\n",
    "    ax.spines['right'].set_visible(False)\n",
    "    plt.xlim([-.5, 1.5])\n",
    "    \n",
    "    plt.ylabel('Within-Pair Correlation')\n",
    "    plt.title(title)\n",
    "    plt.savefig(results_dir + title + '.png', bbox_inches='tight')\n",
    "    plt.savefig(eps_dir + title + '.eps', bbox_inches='tight')\n",
    "    plt.show()\n",
    "    \n",
    "    return ax\n",
    "ax = pre_post_corr_parameter_shift(within_pair_correlation_pre_post, 'overlap', ribbon = True)"
   ]
  },
  {
   "cell_type": "markdown",
   "metadata": {},
   "source": [
    "# Center of Mass analyses\n",
    "<a id = 'c_o_m'></a>\n"
   ]
  },
  {
   "cell_type": "markdown",
   "metadata": {},
   "source": [
    "### Center of Mass - # units apart\n",
    "<a id = distance_apart></a>\n"
   ]
  },
  {
   "cell_type": "code",
   "execution_count": null,
   "metadata": {
    "collapsed": true
   },
   "outputs": [],
   "source": [
    "output_c_mass_df.head()"
   ]
  },
  {
   "cell_type": "code",
   "execution_count": null,
   "metadata": {
    "collapsed": true
   },
   "outputs": [],
   "source": []
  },
  {
   "cell_type": "code",
   "execution_count": null,
   "metadata": {
    "collapsed": true
   },
   "outputs": [],
   "source": [
    "def center_of_mass_dist(data_df, layer) :\n",
    "    plt.clf()\n",
    "    diff_data = data_df[data_df['stim'].isin(['med_diff'])]\n",
    "\n",
    "    \n",
    "    ax = sns.stripplot(x = 'same_diff_condition', y = 'c_o_m', hue = 'time', data = diff_data, alpha = .1, palette = palette_before_after)\n",
    "    ax = sns.pointplot(x = 'same_diff_condition', y = 'c_o_m', hue = 'time', data = diff_data, ci = 95, linestyles = ' ', palette = palette_before_after)\n",
    "    handles, labels = ax.get_legend_handles_labels()\n",
    "\n",
    "    l = plt.legend(handles[0:2], labels[0:2], bbox_to_anchor=(1.05, 1), loc=2, borderaxespad=0.)\n",
    "    \n",
    "    if layer == 'Color' :\n",
    "        layer = 'Output'\n",
    "    title = 'Reported Output Difference Between Pairmates' + layer + ' Layer'\n",
    "    box = ax.get_position()\n",
    "    ax.set_position([box.x0, box.y0, box.width * 0.8, box.height])\n",
    "    plt.title(title)\n",
    "    plt.axhline(y = 0, linestyle = '-', color = 'k')\n",
    "    plt.ylim(-10,10)\n",
    "    plt.ylabel('Number of Units Apart')\n",
    "    plt.xlabel('Condition')\n",
    "    plt.savefig(unusedfigs_dir + title + '.png', bbox_inches='tight')\n",
    "    plt.show()\n",
    "\n",
    "center_of_mass_dist(output_c_mass_df, 'Color')\n",
    "\n"
   ]
  },
  {
   "cell_type": "code",
   "execution_count": null,
   "metadata": {
    "collapsed": true
   },
   "outputs": [],
   "source": [
    "output_c_mass_df"
   ]
  },
  {
   "cell_type": "markdown",
   "metadata": {},
   "source": [
    "### error analysis\n",
    "<a id = error_by_overlap></a>\n"
   ]
  },
  {
   "cell_type": "code",
   "execution_count": null,
   "metadata": {
    "collapsed": true
   },
   "outputs": [],
   "source": [
    "output_c_mass_df"
   ]
  },
  {
   "cell_type": "code",
   "execution_count": null,
   "metadata": {
    "collapsed": true
   },
   "outputs": [],
   "source": [
    "def plot_error_by_order(output_c_mass_df) :\n",
    "    plt.clf()\n",
    "    color_error_data = output_c_mass_df[output_c_mass_df['stim'].isin(['med1', 'med2'])]\n",
    "    color_error_data = output_c_mass_df[output_c_mass_df['time'].isin(['After'])]\n",
    "\n",
    "    ax = plt.axhline(0, ls = '-', color = 'gray')\n",
    "\n",
    "    ax = sns.stripplot(x='same_diff_condition', y = 'rev_error', hue = 'order', palette = order_palette,\n",
    "                        alpha = .1, data = color_error_data)\n",
    "    handles, labels = ax.get_legend_handles_labels()\n",
    "\n",
    "#     ax = sns.pointplot(x='same_diff_condition', y = 'rev_error', hue = 'order', data = color_error_data, alpha = .1, linestyles= ' ')\n",
    "    l = plt.legend(handles[0:2], labels[0:2], bbox_to_anchor=(1.05, 1), loc=2, borderaxespad=0.)\n",
    "    box = ax.get_position()\n",
    "    ax.set_position([box.x0, box.y0, box.width * 0.8, box.height])\n",
    "    title = 'Output Error By Condition and Order'\n",
    "    plt.title(title)\n",
    "    plt.ylim([-10,10])\n",
    "    plt.xlabel('Condition')\n",
    "    plt.ylabel(' # units away from true value')\n",
    "    plt.savefig(unusedfigs_dir + title + '.png', bbox_inches='tight')\n",
    "    plt.show()\n",
    "\n",
    "    \n",
    "def plot_error(output_c_mass_df) :\n",
    "    plt.clf()\n",
    "    \n",
    "    color_error_data = output_c_mass_df[output_c_mass_df['stim'].isin(['med1', 'med2'])]\n",
    "    color_error_data = output_c_mass_df[output_c_mass_df['time'].isin(['After'])]\n",
    "\n",
    "    ax = sns.stripplot(x='same_diff_condition', y = 'rev_error', alpha = .1, color = 'k', data = color_error_data)\n",
    "    ax = plt.axhline(0, ls = '-', color = 'gray')\n",
    "\n",
    "    ax = sns.pointplot(x='same_diff_condition', y = 'rev_error', color = 'k', data = color_error_data, linestyles= ' ')\n",
    "    box = ax.get_position()\n",
    "    ax.set_position([box.x0, box.y0, box.width * 0.8, box.height])\n",
    "    title = 'Output Error By Condition'\n",
    "    plt.title(title)\n",
    "    plt.xlabel('Condition')\n",
    "    plt.ylim([-10,10])\n",
    "    plt.ylabel(' # units away from true value')\n",
    "    plt.savefig(unusedfigs_dir + title + '.png', bbox_inches='tight')\n",
    "    plt.show()\n",
    "\n",
    "plot_error_by_order(output_c_mass_df)\n",
    "plot_error(output_c_mass_df)\n"
   ]
  },
  {
   "cell_type": "code",
   "execution_count": null,
   "metadata": {
    "collapsed": true
   },
   "outputs": [],
   "source": [
    "output_c_mass_df"
   ]
  },
  {
   "cell_type": "code",
   "execution_count": null,
   "metadata": {
    "collapsed": true
   },
   "outputs": [],
   "source": [
    "print('done with cross-pair analysis!')"
   ]
  }
 ],
 "metadata": {
  "kernelspec": {
   "display_name": "Python (leabra)",
   "language": "python",
   "name": "leabra"
  },
  "language_info": {
   "codemirror_mode": {
    "name": "ipython",
    "version": 3
   },
   "file_extension": ".py",
   "mimetype": "text/x-python",
   "name": "python",
   "nbconvert_exporter": "python",
   "pygments_lexer": "ipython3",
   "version": "3.8.5"
  }
 },
 "nbformat": 4,
 "nbformat_minor": 2
}
