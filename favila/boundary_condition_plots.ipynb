{
 "cells": [
  {
   "cell_type": "markdown",
   "metadata": {},
   "source": [
    "# Table of Contents\n",
    "\n",
    "1. [Import & Set Up](#import_everything)\n",
    "2. [Load data](#load_data)\n",
    "3. [Get the parameter that's being adjusted and the values](#Get_the_parameter_thats_being_adjusted_and_the_values)\n",
    "3. [Plot learning rate vs. within pair correlation (pre- and post-learning)](#Plot_learning_rate_vs_within_pair_correlation_pre_and_post_learning)\n",
    "4. [Plot time vs. within pair correlation (across learning rates)](#Plot_time_vs_within_pair_correlation_across_learning_rates)"
   ]
  },
  {
   "cell_type": "markdown",
   "metadata": {},
   "source": [
    "# Import & Set Up\n",
    "<a id='import_everything'></a>"
   ]
  },
  {
   "cell_type": "code",
   "execution_count": null,
   "metadata": {},
   "outputs": [],
   "source": [
    "import csv\n",
    "import pandas as pd\n",
    "import numpy as np\n",
    "import matplotlib.pyplot as plt\n",
    "\n",
    "import seaborn as sns\n",
    "import matplotlib.animation as animation\n",
    "import os as os\n",
    "from collections import defaultdict\n",
    "import shutil\n",
    "import glob\n",
    "import sys\n",
    "from statsmodels.stats.anova import AnovaRM\n",
    "\n",
    "\n",
    "\n"
   ]
  },
  {
   "cell_type": "markdown",
   "metadata": {},
   "source": [
    "# Load data\n",
    "<a id='load_data'></a>"
   ]
  },
  {
   "cell_type": "code",
   "execution_count": null,
   "metadata": {},
   "outputs": [],
   "source": [
    "print('Number of arguments:', len(sys.argv), 'arguments.')\n",
    "print('Argument List:', str(sys.argv))\n",
    "print('---')\n",
    "from_cmdLine = sys.argv[-1]\n",
    "print(from_cmdLine)\n",
    "\n",
    "print('---')\n",
    "\n",
    "if from_cmdLine == 'cmd' :\n",
    "    data_file = sys.argv[-2]\n",
    "    print('using command line to set data')\n",
    "    data_dir = data_file + '/'\n",
    "else :\n",
    "    print('using script to set data')\n",
    "\n",
    "#     data_dir = '/Users/victoria/go/src/github.com/emer/leabra/examples/schlichting/data/2021_12_17_schlichting/'\n",
    "#     data_dir = '/Users/victoria/go/src/github.com/emer/leabra/examples/favila/data/2021_12_17_favila/'\n",
    "#     data_dir = '/Users/victoria/go/src/github.com/emer/leabra/examples/color_diff/data/2021_12_17_color_diff'\n",
    "#     data_dir = '/Users/victoria/go/src/github.com/emer/leabra/examples/favila/data/2021_12_17_favila/'\n",
    "    data_dir = '/Users/victoria/go/src/github.com/emer/leabra/examples/favila/data/lrate_sim_different/'\n",
    "#     data_dir = '/scratch/vej/color_diff/alex_dec_19_test_2'\n",
    "\n",
    "\n",
    "\n",
    "results_dir = data_dir + '/results/'\n",
    "if not os.path.exists(results_dir) :\n",
    "    os.mkdir(results_dir)"
   ]
  },
  {
   "cell_type": "markdown",
   "metadata": {},
   "source": [
    "# Get the parameter that's being adjusted and the values:\n",
    "<a id='Get_the_parameter_thats_being_adjusted_and_the_values'></a>"
   ]
  },
  {
   "cell_type": "code",
   "execution_count": null,
   "metadata": {
    "collapsed": true
   },
   "outputs": [],
   "source": [
    "def find_parameter_and_value(directory):\n",
    "    \"\"\"\n",
    "    This function will figure out the parameter and the value based on the directory name. \n",
    "    i.e. results_--HiddNumOverlapUnits=4 will be interpretted as parameter = 'HiddNumOverlapUnits' \n",
    "    and value = 4\n",
    "    \"\"\"\n",
    "    \n",
    "    \n",
    "    head_tail = os.path.split(directory)\n",
    "    \n",
    "    last_dir = head_tail[1]\n",
    "    \n",
    "    temp = last_dir.split('=')\n",
    "    \n",
    "    try:\n",
    "        value = float(temp[1])\n",
    "    except:\n",
    "        value = temp[1]\n",
    "    \n",
    "    temp2 = temp[0].split('--')\n",
    "    parameter = temp2[1]\n",
    "    \n",
    "    return parameter, value"
   ]
  },
  {
   "cell_type": "code",
   "execution_count": null,
   "metadata": {},
   "outputs": [],
   "source": [
    "# get all files in result dir:\n",
    "\n",
    "all_corr_list = []\n",
    "\n",
    "for directory in glob.glob(data_dir + '/results_*'):\n",
    "    \n",
    "    #determine the parameter and value for this directory:\n",
    "    parameter, value = find_parameter_and_value(directory)\n",
    "\n",
    "    print(parameter, value)\n",
    "    \n",
    "    #load in this directory, and make sure there's a column for the parameter being looped:\n",
    "    temp_df = pd.read_csv(directory + '/fig/results/correlation.csv', index_col = 0)\n",
    "    temp_df[parameter] = value\n",
    "    all_corr_list.append(temp_df)\n",
    "\n",
    "    \n",
    "#concatenate:\n",
    "all_corr_df = pd.concat(all_corr_list, 0)\n",
    "all_corr_df['layer'] = all_corr_df['layer'].astype('category')\n",
    "\n",
    "all_corr_df\n",
    "    \n",
    "\n",
    "    "
   ]
  },
  {
   "cell_type": "code",
   "execution_count": null,
   "metadata": {
    "collapsed": true
   },
   "outputs": [],
   "source": []
  },
  {
   "cell_type": "code",
   "execution_count": null,
   "metadata": {
    "collapsed": true
   },
   "outputs": [],
   "source": []
  },
  {
   "cell_type": "code",
   "execution_count": null,
   "metadata": {
    "collapsed": true
   },
   "outputs": [],
   "source": []
  },
  {
   "cell_type": "code",
   "execution_count": null,
   "metadata": {
    "collapsed": true
   },
   "outputs": [],
   "source": [
    "def select_data(data):\n",
    "    \n",
    "    is_within_pair = data['pair_type'] == 'med1-med2'\n",
    "    is_layer = data['layer'] == 'hidden'\n",
    "    is_pre_or_post = data['|Epoch'].isin([data['|Epoch'].min(), data['|Epoch'].max()])\n",
    "\n",
    "    within_pair_correlation_pre_post = data[(is_within_pair) & (is_layer) & (is_pre_or_post)]\n",
    "    within_pair_correlation_pre_post\n",
    "    \n",
    "    return within_pair_correlation_pre_post\n",
    "\n",
    "within_pair_correlation_pre_post = select_data(all_corr_df)\n",
    "\n",
    "\n"
   ]
  },
  {
   "cell_type": "code",
   "execution_count": null,
   "metadata": {},
   "outputs": [],
   "source": [
    "within_pair_correlation_pre_post.head()"
   ]
  },
  {
   "cell_type": "code",
   "execution_count": null,
   "metadata": {
    "collapsed": true
   },
   "outputs": [],
   "source": [
    "palette_before_after = {-1: (.6,.6,.6), 19: (0,0,0)}\n"
   ]
  },
  {
   "cell_type": "markdown",
   "metadata": {},
   "source": [
    "# Plot learning rate vs. within pair correlation (pre- and post-learning)\n",
    "<a id='Plot_learning_rate_vs_within_pair_correlation_pre_and_post_learning'></a>"
   ]
  },
  {
   "cell_type": "code",
   "execution_count": null,
   "metadata": {},
   "outputs": [],
   "source": [
    "def pre_post_corr_parameter_shift(data, x_parameter, ribbon = False):\n",
    "\n",
    "\n",
    "    ax = sns.pointplot(x = parameter, y = 'correlation', hue = '|Epoch', \n",
    "                  linestyles = '', dodge = .3, data = data, palette = palette_before_after)\n",
    "    \n",
    "    num_categories = len(data[parameter].unique())\n",
    "    for (x1, y1), (x2, y2) in zip(ax.lines[0].get_xydata(), ax.lines[num_categories + 1].get_xydata()):\n",
    "        ax.plot([x1, x2], [y1, y2], color='black', zorder = 0)\n",
    "\n",
    "    plt.axhline(0, color = 'k', linestyle = '-', zorder = 0)\n",
    "\n",
    "    handles, labels = ax.get_legend_handles_labels()\n",
    "    \n",
    "    l = plt.legend(handles[0:2], labels[0:2], bbox_to_anchor=(1.05, 1), loc=2, borderaxespad=0.)\n",
    "    \n",
    "    \n",
    "    x = np.arange(-1, 8, .1)\n",
    "    slope = 0\n",
    "    y1 = x*slope +.215\n",
    "    y2= x*slope +.285\n",
    "    \n",
    "    if ribbon == True:\n",
    "        plt.fill_between(x, y1, y2, alpha = .2, color = 'grey', zorder = 0)\n",
    "        \n",
    "        \n",
    "        \n",
    "        \n",
    "    l.get_texts()[0].set_text('Before')\n",
    "    l.get_texts()[1].set_text('After')\n",
    "    title = parameter\n",
    "    plt.ylim([-1,1.1])\n",
    "    plt.xlim(-.5,7.5)\n",
    "\n",
    "    \n",
    "    plt.ylabel('Within Pair Correlation')\n",
    "    plt.title(title)\n",
    "    plt.savefig(results_dir + title + '.png', bbox_inches='tight')\n",
    "    plt.savefig(results_dir + title + '.eps', bbox_inches='tight')\n",
    "\n",
    "    plt.show()\n",
    "    \n",
    "    return ax\n",
    "ax = pre_post_corr_parameter_shift(within_pair_correlation_pre_post, 'overlap', ribbon = True)"
   ]
  },
  {
   "cell_type": "code",
   "execution_count": null,
   "metadata": {},
   "outputs": [],
   "source": []
  },
  {
   "cell_type": "code",
   "execution_count": null,
   "metadata": {},
   "outputs": [],
   "source": []
  },
  {
   "cell_type": "markdown",
   "metadata": {},
   "source": [
    "# Plot time vs. within pair correlation (across learning rates)\n",
    "<a id='Plot_time_vs_within_pair_correlation_across_learning_rates'></a>"
   ]
  },
  {
   "cell_type": "code",
   "execution_count": null,
   "metadata": {
    "scrolled": false
   },
   "outputs": [],
   "source": [
    "\n",
    "\n",
    "\n",
    "def plot_within_pair_correlation(data, layer, split = False):\n",
    "    plt.clf()\n",
    "    is_within_pair = data['pair_type'] == 'med1-med2'\n",
    "    is_layer = data['layer'] == layer\n",
    "\n",
    "    within_pair_correlation_pre_post = data[(is_within_pair) & (is_layer)]\n",
    "    \n",
    "    # print(\"range len\", range(len(within_pair_correlation_pre_post)))\n",
    "    within_pair_correlation_pre_post = (within_pair_correlation_pre_post.set_index(pd.Series((range(len(within_pair_correlation_pre_post))))))\n",
    "    within_pair_correlation_pre_post[parameter] = within_pair_correlation_pre_post[parameter].astype('category')\n",
    "\n",
    "    # display(within_pair_correlation_pre_post[parameter])\n",
    "    if split == True:\n",
    "        sns.lineplot(x = '|Epoch', y = 'correlation', hue=parameter, data = within_pair_correlation_pre_post,\n",
    "                     palette = 'GnBu', units = '|Run', estimator = None, alpha = .2)\n",
    "    elif split == False:\n",
    "        sns.lineplot(x = '|Epoch', y = 'correlation', hue=parameter, data = within_pair_correlation_pre_post,\n",
    "                     palette = 'GnBu')\n",
    "\n",
    "    plt.axhline(y = 0, c = 'k')\n",
    "    plt.ylim([-1.1, 1.1])\n",
    "    # plt.xlim([-2, 3])\n",
    "    title = 'Within-Pair Correlation Over Time: ' + layer.capitalize() + ' Layer'\n",
    "    if split == True:\n",
    "        title = title + ' (runs)'\n",
    "    plt.legend(title = 'Condition', bbox_to_anchor = (1.05, 1), loc = 2, borderaxespad=0.)\n",
    "    plt.xlabel('Epoch')\n",
    "    plt.title(title)\n",
    "        \n",
    "    plt.savefig(results_dir + title + '.png', bbox_inches='tight')\n",
    "    plt.show()\n",
    "\n",
    "    \n",
    "plot_within_pair_correlation(all_corr_df, 'hidden', split = False)\n",
    "plot_within_pair_correlation(all_corr_df, 'hidden', split = True)\n",
    "plot_within_pair_correlation(all_corr_df, 'output', split = False)\n",
    "plot_within_pair_correlation(all_corr_df, 'output', split = True)\n",
    "\n"
   ]
  },
  {
   "cell_type": "code",
   "execution_count": null,
   "metadata": {},
   "outputs": [],
   "source": [
    "\n",
    "\n",
    "\n",
    "def plot_within_pair_correlation_facet(data, layer, split = False):\n",
    "    plt.clf()\n",
    "    is_within_pair = data['pair_type'] == 'med1-med2'\n",
    "    is_layer = data['layer'] == layer\n",
    "\n",
    "    within_pair_correlation_pre_post = data[(is_within_pair) & (is_layer)]\n",
    "    \n",
    "    # print(\"range len\", range(len(within_pair_correlation_pre_post)))\n",
    "    within_pair_correlation_pre_post = (within_pair_correlation_pre_post.set_index(pd.Series((range(len(within_pair_correlation_pre_post))))))\n",
    "    within_pair_correlation_pre_post[parameter] = within_pair_correlation_pre_post[parameter].astype('category')\n",
    "\n",
    "    # display(within_pair_correlation_pre_post[parameter])\n",
    "\n",
    "    if split == False:\n",
    "        g = sns.FacetGrid(within_pair_correlation_pre_post, col=parameter, col_wrap=4)\n",
    "        g.map(sns.lineplot,'|Epoch', 'correlation',\n",
    "                         color = \"k\")\n",
    "        g.map(plt.axhline, y=0, linewidth = .5, c=\"k\")\n",
    "\n",
    "\n",
    "    elif split == True:\n",
    "        g = sns.FacetGrid(within_pair_correlation_pre_post, col=parameter, col_wrap=4)\n",
    "        g.map(sns.lineplot, '|Epoch', 'correlation' , '|Run', \n",
    "                     palette = 'GnBu', alpha = .1)\n",
    "        \n",
    "        g.map(plt.axhline, y=0, linewidth = .5, c=\"k\")\n",
    "\n",
    "    plt.ylim([-1.1, 1.1])\n",
    "\n",
    "        \n",
    "\n",
    "    # plt.ylim([-1.1, 1.1])\n",
    "    # plt.xlim([-2, 3])\n",
    "    title = 'Within-Pair Correlation Over Time: ' + layer.capitalize() + ' Facet Layer'\n",
    "    if split == True:\n",
    "        title = title + ' (runs)'\n",
    "    plt.xlabel('Epoch')\n",
    "#     plt.title(title)\n",
    "        \n",
    "    plt.savefig(results_dir + title + '.png', bbox_inches='tight')\n",
    "    plt.savefig(results_dir + title + '.eps', bbox_inches='tight')\n",
    "\n",
    "    plt.show()\n",
    "    \n",
    "\n",
    "    \n",
    "plot_within_pair_correlation_facet(all_corr_df, 'hidden', split = False)\n",
    "plot_within_pair_correlation_facet(all_corr_df, 'hidden', split = True)\n",
    "\n",
    "plot_within_pair_correlation_facet(all_corr_df, 'output', split = False)\n",
    "plot_within_pair_correlation_facet(all_corr_df, 'output', split = True)\n",
    "\n",
    "\n",
    "\n"
   ]
  }
 ],
 "metadata": {
  "kernelspec": {
   "display_name": "Python 3",
   "language": "python",
   "name": "python3"
  },
  "language_info": {
   "codemirror_mode": {
    "name": "ipython",
    "version": 3
   },
   "file_extension": ".py",
   "mimetype": "text/x-python",
   "name": "python",
   "nbconvert_exporter": "python",
   "pygments_lexer": "ipython3",
   "version": "3.6.1"
  }
 },
 "nbformat": 4,
 "nbformat_minor": 2
}
