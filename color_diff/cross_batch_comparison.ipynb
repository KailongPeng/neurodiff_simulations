{
 "cells": [
  {
   "cell_type": "code",
   "execution_count": null,
   "metadata": {},
   "outputs": [],
   "source": [
    "import csv\n",
    "import pandas as pd\n",
    "import numpy as np\n",
    "import matplotlib.pyplot as plt\n",
    "import seaborn as sns\n",
    "import matplotlib.animation as animation\n",
    "import os as os\n",
    "from collections import defaultdict\n",
    "import shutil\n",
    "\n",
    "plt.rcParams['animation.ffmpeg_path'] = '/usr/local/bin/ffmpeg'\n",
    "# sns.set_style(style='white')\n",
    "# pd.set_option('display.max_columns', 500)\n"
   ]
  },
  {
   "cell_type": "code",
   "execution_count": null,
   "metadata": {},
   "outputs": [],
   "source": []
  },
  {
   "cell_type": "markdown",
   "metadata": {},
   "source": [
    "## Comparing differences in parameters between two data folders \n",
    "####  Set path to relevant data folder containing checkpoints.csv"
   ]
  },
  {
   "cell_type": "code",
   "execution_count": null,
   "metadata": {},
   "outputs": [],
   "source": [
    "data_dir_head = '/jukebox/scratch/vej/color_diff/'\n",
    "\n",
    "data_file = '2020_08_10_face_inhib_2/'\n",
    "\n",
    "data_dir = data_dir_head + data_file"
   ]
  },
  {
   "cell_type": "code",
   "execution_count": null,
   "metadata": {},
   "outputs": [],
   "source": [
    "## check to see if any version has all results we want."
   ]
  },
  {
   "cell_type": "code",
   "execution_count": null,
   "metadata": {},
   "outputs": [],
   "source": [
    "results = pd.read_csv(data_dir + 'all_results.csv')\n",
    "sum_results_met = results.groupby('dir_name')['TF'].sum()\n",
    "\n",
    "print('versions where all our conditions are met? :')\n",
    "sum_results_met[sum_results_met==4]"
   ]
  },
  {
   "cell_type": "code",
   "execution_count": null,
   "metadata": {},
   "outputs": [],
   "source": [
    "raw_data = pd.read_csv(data_dir + 'all_checkpoints.csv')\n",
    "raw_data['Id'] = raw_data.groupby('dir_name').ngroup()+1\n",
    "\n"
   ]
  },
  {
   "cell_type": "code",
   "execution_count": null,
   "metadata": {},
   "outputs": [],
   "source": [
    "raw_data"
   ]
  },
  {
   "cell_type": "code",
   "execution_count": null,
   "metadata": {},
   "outputs": [],
   "source": [
    "\n",
    "def filter_checkpoint(data, checkpoint) :\n",
    "    true_val = data['TF']== True\n",
    "\n",
    "    rel_checkpoint = data['checkpoint']== checkpoint\n",
    "\n",
    "    filter_dir_name = data[rel_checkpoint & true_val]['dir_name']\n",
    "    new_data = data[data['dir_name'].isin(filter_dir_name)]\n",
    "    \n",
    "    return new_data\n",
    "\n",
    "def filter_checkpoint_comparison(data, checkpoint, comparison, value) :\n",
    "\n",
    "\n",
    "    rel_checkpoint = data['checkpoint']== checkpoint\n",
    "    if comparison == 'less' :\n",
    "        rel_val = data['Value'] <= value\n",
    "        \n",
    "    elif comparison == 'more' :\n",
    "        rel_val = data['Value'] >= value\n",
    "    else :\n",
    "        raise TypeError('can only compare MORE or LESS than threshold value')\n",
    "        \n",
    "    \n",
    "    \n",
    "    filter_dir_name = data[rel_checkpoint & rel_val]['dir_name']\n",
    "    new_data = data[data['dir_name'].isin(filter_dir_name)]\n",
    "    \n",
    "    return new_data\n"
   ]
  },
  {
   "cell_type": "markdown",
   "metadata": {},
   "source": [
    "## Filter based on checkpoints"
   ]
  },
  {
   "cell_type": "code",
   "execution_count": null,
   "metadata": {},
   "outputs": [],
   "source": []
  },
  {
   "cell_type": "code",
   "execution_count": null,
   "metadata": {},
   "outputs": [],
   "source": []
  },
  {
   "cell_type": "code",
   "execution_count": null,
   "metadata": {},
   "outputs": [],
   "source": []
  },
  {
   "cell_type": "code",
   "execution_count": null,
   "metadata": {},
   "outputs": [],
   "source": [
    "data = raw_data\n",
    "print(data.shape)\n",
    "\n",
    "data = filter_checkpoint(data, 'Color AvgSLrn l-m-h')\n",
    "data = filter_checkpoint(data, 'Hidden AvgSLrn l-m-h')\n",
    "data = filter_checkpoint(data, 'Face AvgSLrn l-m-h')\n",
    "print(data.shape)\n",
    "\n",
    "# data = filter_checkpoint_comparison(data, 'Face low nonPair AvgSLrn VALUE', 'less', .001)\n",
    "# data = filter_checkpoint_comparison(data, 'Face med nonPair AvgSLrn VALUE', 'less', .001)\n",
    "# data = filter_checkpoint_comparison(data, 'Face high nonPair AvgSLrn VALUE', 'less', .001)\n",
    "\n",
    "print(data.shape)\n",
    "data = filter_checkpoint_comparison(data, 'Face low targ AvgSLrn VALUE', 'more', .9)\n",
    "data = filter_checkpoint_comparison(data, 'Face med targ AvgSLrn VALUE', 'more', .9)\n",
    "data = filter_checkpoint_comparison(data, 'Face high targ AvgSLrn VALUE', 'more', .9)\n",
    "\n",
    "print(data.shape)\n",
    "\n",
    "data = filter_checkpoint_comparison(data, 'Face low targ AvgSLrn VALUE', 'more', .9)\n",
    "data = filter_checkpoint_comparison(data, 'Face med targ AvgSLrn VALUE', 'more', .9)\n",
    "data = filter_checkpoint_comparison(data, 'Face high targ AvgSLrn VALUE', 'more', .9)\n",
    "\n",
    "\n",
    "print(data.shape)\n",
    "\n",
    "data = filter_checkpoint_comparison(data, 'Face low targ AvgSLrn VALUE', 'more', .9)\n",
    "data = filter_checkpoint_comparison(data, 'Face med targ AvgSLrn VALUE', 'more', .9)\n",
    "data = filter_checkpoint_comparison(data, 'Face high targ AvgSLrn VALUE', 'more', .9)\n",
    "\n",
    "print(data.shape)\n",
    "# print('note-- make sure there are any that even qualify here... may need to optimize with hidden avgSLrn range')\n",
    "\n",
    "print('here')\n",
    "data = filter_checkpoint_comparison(data, 'Face low nonPair AvgSLrn VALUE', 'less', .05)\n",
    "data = filter_checkpoint_comparison(data, 'Face med nonPair AvgSLrn VALUE', 'less', .05)\n",
    "data = filter_checkpoint_comparison(data, 'Face high nonPair AvgSLrn VALUE', 'less', .05)\n",
    "print(data.shape)\n",
    "\n",
    "\n",
    "# print('note-- make sure there are any that even qualify here... may need to optimize with hidden avgSLrn range')\n",
    "\n",
    "data = filter_checkpoint_comparison(data, 'Hidden low nonPair AvgSLrn VALUE', 'less', .2)\n",
    "data = filter_checkpoint_comparison(data, 'Hidden med nonPair AvgSLrn VALUE', 'less', .2)\n",
    "data = filter_checkpoint_comparison(data, 'Hidden high nonPair AvgSLrn VALUE', 'less', .2)\n",
    "print(data.shape)\n",
    "\n",
    "data = filter_checkpoint_comparison(data, 'Color low nonPair AvgSLrn VALUE', 'less', .01)\n",
    "data = filter_checkpoint_comparison(data, 'Color med nonPair AvgSLrn VALUE', 'less', .01)\n",
    "data = filter_checkpoint_comparison(data, 'Color high nonPair AvgSLrn VALUE', 'less', .01)\n",
    "print(data.shape)\n",
    "\n",
    "data = filter_checkpoint_comparison(data, 'Color low targ AvgSLrn VALUE', 'more',  .6)\n",
    "data = filter_checkpoint_comparison(data, 'Color med targ AvgSLrn VALUE', 'more',  .6)\n",
    "data = filter_checkpoint_comparison(data, 'Color high targ AvgSLrn VALUE', 'more',  .6)\n",
    "print(data.shape)\n",
    "\n",
    "#Hidden high coprod high"
   ]
  },
  {
   "cell_type": "code",
   "execution_count": null,
   "metadata": {},
   "outputs": [],
   "source": [
    "# reframe so directory is every row, and every column is each checkpoint. \n",
    "# then can do df['hidden avgslrn range] - df['hidden non pair avgslrn]\n",
    "# and maximize that. "
   ]
  },
  {
   "cell_type": "code",
   "execution_count": null,
   "metadata": {},
   "outputs": [],
   "source": [
    "\n",
    "top_searches = data[data['checkpoint'] == 'Face AvgSLrn range']\n",
    "top_searches = top_searches.sort_values(by=['Value'], ascending=False).reset_index(drop = True)\n",
    "\n",
    "top_searches.head()\n",
    "\n"
   ]
  },
  {
   "cell_type": "code",
   "execution_count": null,
   "metadata": {},
   "outputs": [],
   "source": [
    "def get_dir_name(full_dir) :\n",
    "\n",
    "    return full_dir.split('/')[-1]\n",
    "\n",
    "top_searches['dir_name_specific'] = top_searches['dir_name'].apply(get_dir_name)\n"
   ]
  },
  {
   "cell_type": "code",
   "execution_count": null,
   "metadata": {},
   "outputs": [],
   "source": [
    "for top_dir in top_searches['dir_name_specific'].head() :\n",
    "\n",
    "    try: \n",
    "        shutil.copytree(data_dir + '/' + top_dir, '/jukebox/norman/vej/color_diff_parametersearch_batches/' + data_file + '/' + top_dir )\n",
    "    \n",
    "    except :\n",
    "        print('traceback.print_exc()')\n",
    "                 \n",
    "                 "
   ]
  },
  {
   "cell_type": "code",
   "execution_count": null,
   "metadata": {},
   "outputs": [],
   "source": [
    "top_searches['dir_name_specific'].head()"
   ]
  },
  {
   "cell_type": "code",
   "execution_count": null,
   "metadata": {},
   "outputs": [],
   "source": [
    "raw_data[raw_data['dir_name'] == '/scratch/vej/color_diff/2020_08_10_face_inhib_2/2020-08-10-21-07-13']"
   ]
  },
  {
   "cell_type": "code",
   "execution_count": null,
   "metadata": {},
   "outputs": [],
   "source": []
  }
 ],
 "metadata": {
  "kernelspec": {
   "display_name": "Python 3",
   "language": "python",
   "name": "python3"
  },
  "language_info": {
   "codemirror_mode": {
    "name": "ipython",
    "version": 3
   },
   "file_extension": ".py",
   "mimetype": "text/x-python",
   "name": "python",
   "nbconvert_exporter": "python",
   "pygments_lexer": "ipython3",
   "version": "3.7.3"
  }
 },
 "nbformat": 4,
 "nbformat_minor": 2
}
